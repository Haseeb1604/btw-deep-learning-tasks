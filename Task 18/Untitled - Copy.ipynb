{
 "cells": [
  {
   "cell_type": "code",
   "execution_count": 1,
   "id": "e2b6e478",
   "metadata": {},
   "outputs": [],
   "source": [
    "import pandas as pd\n",
    "import numpy as np\n",
    "from sklearn.model_selection import train_test_split\n",
    "from sklearn.naive_bayes import GaussianNB\n",
    "from sklearn.metrics import accuracy_score, confusion_matrix, classification_report\n",
    "from sklearn.preprocessing import StandardScaler\n",
    "import matplotlib.pyplot as plt\n",
    "import seaborn as sns\n",
    "from sklearn.datasets import load_iris\n",
    "from sklearn.model_selection import GridSearchCV"
   ]
  },
  {
   "cell_type": "markdown",
   "id": "1e3c5dfe",
   "metadata": {},
   "source": [
    "## Loading Dataset but this time using link"
   ]
  },
  {
   "cell_type": "code",
   "execution_count": 2,
   "id": "c1b80dd7",
   "metadata": {},
   "outputs": [],
   "source": [
    "iris = load_iris()\n",
    "X, y = iris.data, iris.target"
   ]
  },
  {
   "cell_type": "markdown",
   "id": "38f1f4bf",
   "metadata": {},
   "source": [
    "# Preprocessing and Visualization"
   ]
  },
  {
   "cell_type": "markdown",
   "id": "64c04951",
   "metadata": {},
   "source": [
    "## 1. Visualize the dataset using scatterplots to explore the relationships between the features."
   ]
  },
  {
   "cell_type": "code",
   "execution_count": 3,
   "id": "b0dcf602",
   "metadata": {},
   "outputs": [
    {
     "ename": "NameError",
     "evalue": "name 'df' is not defined",
     "output_type": "error",
     "traceback": [
      "\u001b[1;31m---------------------------------------------------------------------------\u001b[0m",
      "\u001b[1;31mNameError\u001b[0m                                 Traceback (most recent call last)",
      "Input \u001b[1;32mIn [3]\u001b[0m, in \u001b[0;36m<cell line: 2>\u001b[1;34m()\u001b[0m\n\u001b[0;32m      1\u001b[0m \u001b[38;5;66;03m# Pairplot of the dataset\u001b[39;00m\n\u001b[1;32m----> 2\u001b[0m sns\u001b[38;5;241m.\u001b[39mpairplot(\u001b[43mdf\u001b[49m, hue\u001b[38;5;241m=\u001b[39m\u001b[38;5;124m'\u001b[39m\u001b[38;5;124mclass\u001b[39m\u001b[38;5;124m'\u001b[39m)\n\u001b[0;32m      3\u001b[0m plt\u001b[38;5;241m.\u001b[39mshow()\n\u001b[0;32m      5\u001b[0m \u001b[38;5;66;03m# Heatmap of the correlation matrix\u001b[39;00m\n",
      "\u001b[1;31mNameError\u001b[0m: name 'df' is not defined"
     ]
    }
   ],
   "source": [
    "# Pairplot of the dataset\n",
    "sns.pairplot(df, hue='class')\n",
    "plt.show()\n",
    "\n",
    "# Heatmap of the correlation matrix\n",
    "sns.heatmap(df.corr(), annot=True, cmap='RdYlBu')\n",
    "plt.show()\n"
   ]
  },
  {
   "cell_type": "markdown",
   "id": "f34ed41b",
   "metadata": {},
   "source": [
    "## 2. Preprocessing \n",
    "### - scaling features\n",
    "### - splitting Data into training and testing sets."
   ]
  },
  {
   "cell_type": "code",
   "execution_count": null,
   "id": "8ba05677",
   "metadata": {},
   "outputs": [],
   "source": [
    "X_train, X_test, y_train, y_test = train_test_split(X, y, test_size=0.2, random_state=42)\n",
    "scaler = StandardScaler()\n",
    "X_train = scaler.fit_transform(X_train)\n",
    "X_test = scaler.transform(X_test)"
   ]
  },
  {
   "cell_type": "markdown",
   "id": "1011dbc3",
   "metadata": {},
   "source": [
    "## 3. Visualize the standardized features to identify any outliers."
   ]
  },
  {
   "cell_type": "code",
   "execution_count": null,
   "id": "11a079c4",
   "metadata": {},
   "outputs": [],
   "source": [
    "plt.figure(figsize=(8,6))\n",
    "sns.boxplot(data=X_train)\n",
    "plt.xticks(np.arange(4), iris.feature_names, rotation=45)\n",
    "plt.show()"
   ]
  },
  {
   "cell_type": "markdown",
   "id": "473df0a8",
   "metadata": {},
   "source": [
    "## 4. Removing any outliers"
   ]
  },
  {
   "cell_type": "code",
   "execution_count": null,
   "id": "b33e777d",
   "metadata": {},
   "outputs": [],
   "source": [
    "outlier_indexes = ((X_train > 3) | (X_train < -3)).any(axis=1)\n",
    "X_train = X_train[~outlier_indexes]\n",
    "y_train = y_train[~outlier_indexes]"
   ]
  },
  {
   "cell_type": "markdown",
   "id": "ff50e767",
   "metadata": {},
   "source": [
    "## 5. Visualize the class distributions using a bar plot"
   ]
  },
  {
   "cell_type": "code",
   "execution_count": null,
   "id": "7343ba6a",
   "metadata": {},
   "outputs": [],
   "source": [
    "sns.countplot(x=y_train)\n",
    "plt.xticks(np.arange(3), iris.target_names)\n",
    "plt.show()"
   ]
  },
  {
   "cell_type": "markdown",
   "id": "61507f79",
   "metadata": {},
   "source": [
    "# Model Training and Testing"
   ]
  },
  {
   "cell_type": "markdown",
   "id": "1096a7b4",
   "metadata": {},
   "source": [
    "## Training the Naive Bayes and perform grid search for hyperparameter tuning."
   ]
  },
  {
   "cell_type": "code",
   "execution_count": null,
   "id": "802fda8b",
   "metadata": {},
   "outputs": [],
   "source": [
    "param_grid = {'var_smoothing': np.logspace(0,-9, num=100)}"
   ]
  },
  {
   "cell_type": "code",
   "execution_count": null,
   "id": "bb961b21",
   "metadata": {},
   "outputs": [],
   "source": [
    "grid = GridSearchCV(estimator=nb, param_grid=param_grid, cv=5, verbose=0, n_jobs=-1)"
   ]
  },
  {
   "cell_type": "code",
   "execution_count": null,
   "id": "125b1674",
   "metadata": {},
   "outputs": [],
   "source": [
    "grid.fit(X_train, y_train)"
   ]
  },
  {
   "cell_type": "code",
   "execution_count": null,
   "id": "c47bc9cf",
   "metadata": {},
   "outputs": [],
   "source": [
    "grid.best_params_"
   ]
  },
  {
   "cell_type": "code",
   "execution_count": null,
   "id": "6f3d032c",
   "metadata": {},
   "outputs": [],
   "source": [
    "best_nb = grid.best_estimator_\n",
    "y_pred = best_nb.predict(X_test)\n",
    "print('Accuracy with best hyperparameters:', accuracy_score(y_test, y_pred))"
   ]
  },
  {
   "cell_type": "code",
   "execution_count": null,
   "id": "c803692b",
   "metadata": {},
   "outputs": [],
   "source": [
    "print('Confusion Matrix:\\n', confusion_matrix(y_test, y_pred))"
   ]
  },
  {
   "cell_type": "code",
   "execution_count": null,
   "id": "f71692ac",
   "metadata": {},
   "outputs": [],
   "source": [
    "print(classification_report(y_test, y_pred))"
   ]
  },
  {
   "cell_type": "code",
   "execution_count": null,
   "id": "6a0e5084",
   "metadata": {},
   "outputs": [],
   "source": []
  }
 ],
 "metadata": {
  "kernelspec": {
   "display_name": "Python 3 (ipykernel)",
   "language": "python",
   "name": "python3"
  },
  "language_info": {
   "codemirror_mode": {
    "name": "ipython",
    "version": 3
   },
   "file_extension": ".py",
   "mimetype": "text/x-python",
   "name": "python",
   "nbconvert_exporter": "python",
   "pygments_lexer": "ipython3",
   "version": "3.9.12"
  }
 },
 "nbformat": 4,
 "nbformat_minor": 5
}
