{
 "cells": [
  {
   "cell_type": "markdown",
   "id": "c7b4c968",
   "metadata": {},
   "source": [
    "# Deep Learning"
   ]
  },
  {
   "cell_type": "markdown",
   "id": "165f3527",
   "metadata": {},
   "source": [
    "## Introduction to Deep Learning\n",
    "Deep learning is a subset of machine learning, and it uses artificial neural networks to enable machines to learn from data and make predictions or decisions without explicit programming. It has become one of the most popular techniques in machine learning, and it has been applied to a wide range of fields, such as image recognition, natural language processing, and autonomous vehicles."
   ]
  },
  {
   "cell_type": "markdown",
   "id": "5aff470b",
   "metadata": {},
   "source": [
    "## Building Blocks of Deep Learning\n",
    "The building blocks of deep learning are layers, which are the basic units of neural networks. Each layer processes the input data and transforms it into a more abstract representation, which is passed to the next layer. There are several types of layers, such as dense layers, convolutional layers, and recurrent layers, and each has a specific function."
   ]
  },
  {
   "cell_type": "markdown",
   "id": "bbef35f2",
   "metadata": {},
   "source": [
    "## Look on Neural Network:\n",
    "\n",
    "A neural network is a type of machine learning algorithm inspired by the structure and function of the human brain. It consists of multiple layers of artificial neurons, which are connected by weights. During training, the weights are adjusted to minimize the error between the predicted output and the actual output."
   ]
  },
  {
   "cell_type": "markdown",
   "id": "84f94986",
   "metadata": {},
   "source": [
    "## Tensor Operations\n",
    "\n",
    "A tensor is a mathematical object that can represent arrays of data with an arbitrary number of dimensions. Tensor operations are the building blocks of deep learning algorithms, and they include operations such as addition, multiplication, and convolution."
   ]
  },
  {
   "cell_type": "markdown",
   "id": "4842b893",
   "metadata": {},
   "source": [
    "## Coding"
   ]
  },
  {
   "cell_type": "code",
   "execution_count": 5,
   "id": "07133387",
   "metadata": {},
   "outputs": [],
   "source": [
    "import tensorflow as tf\n",
    "from tensorflow import keras\n",
    "from tensorflow.keras import layers\n"
   ]
  },
  {
   "cell_type": "markdown",
   "id": "1549cd68",
   "metadata": {},
   "source": [
    "### Loading Dataset"
   ]
  },
  {
   "cell_type": "code",
   "execution_count": 7,
   "id": "a81b9728",
   "metadata": {},
   "outputs": [
    {
     "name": "stdout",
     "output_type": "stream",
     "text": [
      "Downloading data from https://storage.googleapis.com/tensorflow/tf-keras-datasets/mnist.npz\n",
      "11490434/11490434 [==============================] - 7s 1us/step\n"
     ]
    }
   ],
   "source": [
    "(x_train, y_train), (x_test, y_test) = keras.datasets.mnist.load_data()"
   ]
  },
  {
   "cell_type": "code",
   "execution_count": 8,
   "id": "2431439e",
   "metadata": {},
   "outputs": [],
   "source": [
    "x_train = x_train.astype(\"float32\") / 255.0\n",
    "x_test = x_test.astype(\"float32\") / 255.0"
   ]
  },
  {
   "cell_type": "markdown",
   "id": "a322b4c3",
   "metadata": {},
   "source": [
    "### Basic Neural Network\n",
    "our model consists of three layers:\n",
    "\n",
    "- A Flatten layer that transforms the input images from a 2D array (28x28 pixels) to a 1D array (784 pixels).\n",
    "- A Dense layer with 128 neurons and ReLU activation function.\n",
    "- A Dense layer with 10 neurons (one for each possible class) and softmax activation function, which outputs a probability distribution over the classes."
   ]
  },
  {
   "cell_type": "code",
   "execution_count": 9,
   "id": "d466412c",
   "metadata": {},
   "outputs": [],
   "source": [
    "model = keras.Sequential([\n",
    "    layers.Flatten(input_shape=(28, 28)),\n",
    "    layers.Dense(128, activation=\"relu\"),\n",
    "    layers.Dense(10, activation=\"softmax\")\n",
    "])"
   ]
  },
  {
   "cell_type": "markdown",
   "id": "99461b84",
   "metadata": {},
   "source": [
    "### Compiling Model"
   ]
  },
  {
   "cell_type": "code",
   "execution_count": 10,
   "id": "0818d873",
   "metadata": {},
   "outputs": [],
   "source": [
    "model.compile(\n",
    "    loss=\"sparse_categorical_crossentropy\",\n",
    "    optimizer=\"adam\",\n",
    "    metrics=[\"accuracy\"]\n",
    ")\n"
   ]
  },
  {
   "cell_type": "markdown",
   "id": "04c13438",
   "metadata": {},
   "source": [
    "### Training and Evaluating Model"
   ]
  },
  {
   "cell_type": "code",
   "execution_count": 12,
   "id": "5f5c5c00",
   "metadata": {},
   "outputs": [
    {
     "name": "stdout",
     "output_type": "stream",
     "text": [
      "Epoch 1/5\n",
      "1875/1875 [==============================] - 14s 6ms/step - loss: 0.2585 - accuracy: 0.9270\n",
      "Epoch 2/5\n",
      "1875/1875 [==============================] - 14s 7ms/step - loss: 0.1115 - accuracy: 0.9663\n",
      "Epoch 3/5\n",
      "1875/1875 [==============================] - 13s 7ms/step - loss: 0.0760 - accuracy: 0.9770\n",
      "Epoch 4/5\n",
      "1875/1875 [==============================] - 11s 6ms/step - loss: 0.0579 - accuracy: 0.9825\n",
      "Epoch 5/5\n",
      "1875/1875 [==============================] - 12s 6ms/step - loss: 0.0441 - accuracy: 0.9862\n",
      "313/313 [==============================] - 3s 6ms/step - loss: 0.0832 - accuracy: 0.9748\n",
      "Test accuracy: 0.9747999906539917\n"
     ]
    }
   ],
   "source": [
    "# Train the model for 5 epochs with batch size of 32\n",
    "model.fit(x_train, y_train, epochs=5, batch_size=32)\n",
    "\n",
    "# Evaluate the model on the testing set\n",
    "test_loss, test_acc = model.evaluate(x_test, y_test)\n",
    "print(\"Test accuracy:\", test_acc)"
   ]
  },
  {
   "cell_type": "markdown",
   "id": "9e826065",
   "metadata": {},
   "source": [
    "### Classification Report"
   ]
  },
  {
   "cell_type": "code",
   "execution_count": 14,
   "id": "d51699f9",
   "metadata": {},
   "outputs": [],
   "source": [
    "from sklearn.metrics import classification_report"
   ]
  },
  {
   "cell_type": "code",
   "execution_count": 13,
   "id": "254f8aa5",
   "metadata": {},
   "outputs": [
    {
     "name": "stdout",
     "output_type": "stream",
     "text": [
      "313/313 [==============================] - 1s 3ms/step\n"
     ]
    }
   ],
   "source": [
    "y_pred = model.predict(x_test)\n",
    "\n",
    "y_pred_labels = tf.argmax(y_pred, axis=1)"
   ]
  },
  {
   "cell_type": "code",
   "execution_count": 16,
   "id": "dc721aea",
   "metadata": {},
   "outputs": [
    {
     "name": "stdout",
     "output_type": "stream",
     "text": [
      "              precision    recall  f1-score   support\n",
      "\n",
      "           0       0.98      0.99      0.98       980\n",
      "           1       1.00      0.97      0.98      1135\n",
      "           2       0.99      0.96      0.98      1032\n",
      "           3       0.97      0.98      0.98      1010\n",
      "           4       0.98      0.96      0.97       982\n",
      "           5       0.97      0.98      0.98       892\n",
      "           6       0.98      0.97      0.98       958\n",
      "           7       0.95      0.99      0.97      1028\n",
      "           8       0.95      0.98      0.96       974\n",
      "           9       0.97      0.96      0.97      1009\n",
      "\n",
      "    accuracy                           0.97     10000\n",
      "   macro avg       0.97      0.97      0.97     10000\n",
      "weighted avg       0.98      0.97      0.97     10000\n",
      "\n"
     ]
    }
   ],
   "source": [
    "print(classification_report(y_test, y_pred_labels))"
   ]
  },
  {
   "cell_type": "markdown",
   "id": "ae3be862",
   "metadata": {},
   "source": [
    "### Confusion Matrix"
   ]
  },
  {
   "cell_type": "code",
   "execution_count": 18,
   "id": "8700520d",
   "metadata": {},
   "outputs": [],
   "source": [
    "from sklearn.metrics import confusion_matrix\n",
    "import seaborn as sns"
   ]
  },
  {
   "cell_type": "code",
   "execution_count": 19,
   "id": "302d844b",
   "metadata": {},
   "outputs": [
    {
     "data": {
      "text/plain": [
       "<AxesSubplot:>"
      ]
     },
     "execution_count": 19,
     "metadata": {},
     "output_type": "execute_result"
    },
    {
     "data": {
      "image/png": "[encoded data removed]",
      "text/plain": [
       "<Figure size 432x288 with 2 Axes>"
      ]
     },
     "metadata": {
      "needs_background": "light"
     },
     "output_type": "display_data"
    }
   ],
   "source": [
    "cm = confusion_matrix(y_test, y_pred_labels)\n",
    "\n",
    "sns.heatmap(cm, annot=True, fmt='d', cmap='Blues')"
   ]
  },
  {
   "cell_type": "code",
   "execution_count": null,
   "id": "43891aeb",
   "metadata": {},
   "outputs": [],
   "source": []
  }
 ],
 "metadata": {
  "kernelspec": {
   "display_name": "Python 3 (ipykernel)",
   "language": "python",
   "name": "python3"
  },
  "language_info": {
   "codemirror_mode": {
    "name": "ipython",
    "version": 3
   },
   "file_extension": ".py",
   "mimetype": "text/x-python",
   "name": "python",
   "nbconvert_exporter": "python",
   "pygments_lexer": "ipython3",
   "version": "3.9.12"
  }
 },
 "nbformat": 4,
 "nbformat_minor": 5
}
