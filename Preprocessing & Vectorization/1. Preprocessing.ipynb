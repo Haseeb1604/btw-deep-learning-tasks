{
 "cells": [
  {
   "cell_type": "code",
   "execution_count": 1,
   "id": "ef81703f",
   "metadata": {},
   "outputs": [],
   "source": [
    "import pandas as pd\n",
    "import numpy as np\n",
    "import re\n",
    "\n",
    "# Import Plotting Libararies\n",
    "import seaborn as sns\n",
    "import matplotlib.pyplot as plt\n",
    "\n",
    "# Import Data Preprocessing Libraries \n",
    "from sklearn.preprocessing import LabelEncoder"
   ]
  },
  {
   "cell_type": "code",
   "execution_count": 2,
   "id": "849a73cc",
   "metadata": {},
   "outputs": [],
   "source": [
    "import urduhack\n",
    "urduhack.download()\n",
    "from urduhack.normalization import normalize\n",
    "from urduhack import preprocessing as ppro"
   ]
  },
  {
   "cell_type": "markdown",
   "id": "253fb3cd",
   "metadata": {},
   "source": [
    "## Dataset"
   ]
  },
  {
   "cell_type": "code",
   "execution_count": 3,
   "id": "d128259d",
   "metadata": {},
   "outputs": [
    {
     "data": {
      "text/plain": [
       "(                                              review sentiment\n",
       " 0  میں نے اسے 80 کی دہائی کے وسط میں ایک کیبل گائ...  positive\n",
       " 1  چونکہ میں نے 80 کی دہائی میں انسپکٹر گیجٹ کارٹ...  negative\n",
       " 2  ایک ایسے معاشرے کی حالت کے بارے میں تعجب کرتا ...  positive\n",
       " 3  مفید البرٹ پیون کی طرف سے ایک اور ردی کی ٹوکری...  negative\n",
       " 4  یہ کولمبو ہے جس کی ہدایتکاری اپنے کیریئر کے اب...  positive,\n",
       "                                               review sentiment\n",
       " 0  یہ بے گھر خواتین کے بارے میں ایک دستاویزی فلم ...  negative\n",
       " 1  بالکل بھی اچھ ،ی کام نہیں کیا گیا ، پوری فلم ص...  negative\n",
       " 2  یہ عجیب بات ہے کہ کچھ لوگوں کا کیا حشر ہوتا ہے...  negative\n",
       " 3  اور یہ خاص طور پر وکیلوں اور پولیس اہلکاروں کے...  positive\n",
       " 4  پہلے ، ایک وضاحت: میری سرخی کے باوجود ، میں اس...  positive)"
      ]
     },
     "execution_count": 3,
     "metadata": {},
     "output_type": "execute_result"
    }
   ],
   "source": [
    "train_data = pd.read_csv(\"../DataSets/IMDB_Urdu_Reviews/train.csv\")\n",
    "test_data = pd.read_csv(\"../DataSets/IMDB_Urdu_Reviews/test.csv\")\n",
    "\n",
    "train_data.head(), test_data.head()"
   ]
  },
  {
   "cell_type": "code",
   "execution_count": 4,
   "id": "fe35aff0",
   "metadata": {},
   "outputs": [
    {
     "name": "stdout",
     "output_type": "stream",
     "text": [
      "(50000, 2)\n"
     ]
    }
   ],
   "source": [
    "data =  pd.concat([train_data, test_data]).reset_index(drop=True)\n",
    "print(data.shape)"
   ]
  },
  {
   "cell_type": "code",
   "execution_count": 5,
   "id": "e0852599",
   "metadata": {},
   "outputs": [
    {
     "data": {
      "text/html": [
       "<div>\n",
       "<style scoped>\n",
       "    .dataframe tbody tr th:only-of-type {\n",
       "        vertical-align: middle;\n",
       "    }\n",
       "\n",
       "    .dataframe tbody tr th {\n",
       "        vertical-align: top;\n",
       "    }\n",
       "\n",
       "    .dataframe thead th {\n",
       "        text-align: right;\n",
       "    }\n",
       "</style>\n",
       "<table border=\"1\" class=\"dataframe\">\n",
       "  <thead>\n",
       "    <tr style=\"text-align: right;\">\n",
       "      <th></th>\n",
       "      <th>review</th>\n",
       "      <th>sentiment</th>\n",
       "    </tr>\n",
       "  </thead>\n",
       "  <tbody>\n",
       "    <tr>\n",
       "      <th>0</th>\n",
       "      <td>میں نے اسے 80 کی دہائی کے وسط میں ایک کیبل گائ...</td>\n",
       "      <td>positive</td>\n",
       "    </tr>\n",
       "    <tr>\n",
       "      <th>1</th>\n",
       "      <td>چونکہ میں نے 80 کی دہائی میں انسپکٹر گیجٹ کارٹ...</td>\n",
       "      <td>negative</td>\n",
       "    </tr>\n",
       "    <tr>\n",
       "      <th>2</th>\n",
       "      <td>ایک ایسے معاشرے کی حالت کے بارے میں تعجب کرتا ...</td>\n",
       "      <td>positive</td>\n",
       "    </tr>\n",
       "    <tr>\n",
       "      <th>3</th>\n",
       "      <td>مفید البرٹ پیون کی طرف سے ایک اور ردی کی ٹوکری...</td>\n",
       "      <td>negative</td>\n",
       "    </tr>\n",
       "    <tr>\n",
       "      <th>4</th>\n",
       "      <td>یہ کولمبو ہے جس کی ہدایتکاری اپنے کیریئر کے اب...</td>\n",
       "      <td>positive</td>\n",
       "    </tr>\n",
       "    <tr>\n",
       "      <th>...</th>\n",
       "      <td>...</td>\n",
       "      <td>...</td>\n",
       "    </tr>\n",
       "    <tr>\n",
       "      <th>49995</th>\n",
       "      <td>اگر آپ چیخنا چاہتے ہو یا بڑے اسٹوڈیو ہارر پراڈ...</td>\n",
       "      <td>positive</td>\n",
       "    </tr>\n",
       "    <tr>\n",
       "      <th>49996</th>\n",
       "      <td>براہ راست یہ ایک محض ایک چھوٹی سی چھوٹی چھوٹی ...</td>\n",
       "      <td>positive</td>\n",
       "    </tr>\n",
       "    <tr>\n",
       "      <th>49997</th>\n",
       "      <td>میں نے اس فلم کو کل رات آدھی رات کو چپکے سے پہ...</td>\n",
       "      <td>negative</td>\n",
       "    </tr>\n",
       "    <tr>\n",
       "      <th>49998</th>\n",
       "      <td>دیکھنا کوئی آسان فلم نہیں ہے - یہ ساڑھے تین گھ...</td>\n",
       "      <td>positive</td>\n",
       "    </tr>\n",
       "    <tr>\n",
       "      <th>49999</th>\n",
       "      <td>ناگرا قدامت پسند ہندوستانی خاندان سے تعلق رکھت...</td>\n",
       "      <td>positive</td>\n",
       "    </tr>\n",
       "  </tbody>\n",
       "</table>\n",
       "<p>50000 rows × 2 columns</p>\n",
       "</div>"
      ],
      "text/plain": [
       "                                                  review sentiment\n",
       "0      میں نے اسے 80 کی دہائی کے وسط میں ایک کیبل گائ...  positive\n",
       "1      چونکہ میں نے 80 کی دہائی میں انسپکٹر گیجٹ کارٹ...  negative\n",
       "2      ایک ایسے معاشرے کی حالت کے بارے میں تعجب کرتا ...  positive\n",
       "3      مفید البرٹ پیون کی طرف سے ایک اور ردی کی ٹوکری...  negative\n",
       "4      یہ کولمبو ہے جس کی ہدایتکاری اپنے کیریئر کے اب...  positive\n",
       "...                                                  ...       ...\n",
       "49995  اگر آپ چیخنا چاہتے ہو یا بڑے اسٹوڈیو ہارر پراڈ...  positive\n",
       "49996  براہ راست یہ ایک محض ایک چھوٹی سی چھوٹی چھوٹی ...  positive\n",
       "49997  میں نے اس فلم کو کل رات آدھی رات کو چپکے سے پہ...  negative\n",
       "49998  دیکھنا کوئی آسان فلم نہیں ہے - یہ ساڑھے تین گھ...  positive\n",
       "49999  ناگرا قدامت پسند ہندوستانی خاندان سے تعلق رکھت...  positive\n",
       "\n",
       "[50000 rows x 2 columns]"
      ]
     },
     "execution_count": 5,
     "metadata": {},
     "output_type": "execute_result"
    }
   ],
   "source": [
    "# Make copy of a dataset\n",
    "df =  data.copy()\n",
    "df"
   ]
  },
  {
   "cell_type": "code",
   "execution_count": 6,
   "id": "62bff717",
   "metadata": {},
   "outputs": [
    {
     "data": {
      "image/png": "[encoded data removed]",
      "text/plain": [
       "<Figure size 432x288 with 1 Axes>"
      ]
     },
     "metadata": {
      "needs_background": "light"
     },
     "output_type": "display_data"
    }
   ],
   "source": [
    "sns.countplot( x = 'sentiment', data = df );"
   ]
  },
  {
   "cell_type": "markdown",
   "id": "b7bc267b",
   "metadata": {},
   "source": [
    "## Preprocessing"
   ]
  },
  {
   "cell_type": "code",
   "execution_count": 7,
   "id": "4b95ad1e",
   "metadata": {},
   "outputs": [],
   "source": [
    "le = LabelEncoder()\n",
    "le.fit(df['sentiment'])\n",
    "df['encoded_sentiments'] = le.transform(df['sentiment'])"
   ]
  },
  {
   "cell_type": "markdown",
   "id": "600498f6",
   "metadata": {},
   "source": [
    "#### Urdu Stop Words"
   ]
  },
  {
   "cell_type": "code",
   "execution_count": 8,
   "id": "e39e777a",
   "metadata": {},
   "outputs": [],
   "source": [
    "# Remove stop words from text\n",
    "from typing import FrozenSet\n",
    "\n",
    "# Urdu Language Stop words list\n",
    "STOP_WORDS: FrozenSet[str] = frozenset(\"\"\"\n",
    " آ آئی آئیں آئے آتا آتی آتے آس آمدید آنا آنسہ آنی آنے آپ آگے آہ آہا آیا اب ابھی ابے\n",
    " ارے اس اسکا اسکی اسکے اسی اسے اف افوہ البتہ الف ان اندر انکا انکی انکے انہوں انہی انہیں اوئے اور اوپر\n",
    " اوہو اپ اپنا اپنوں اپنی اپنے اپنےآپ اکثر اگر اگرچہ اہاہا ایسا ایسی ایسے ایک بائیں بار بارے بالکل باوجود باہر\n",
    " بج بجے بخیر بشرطیکہ بعد بعض بغیر بلکہ بن بنا بناؤ بند بڑی بھر بھریں بھی بہت بہتر تاکہ تاہم تب تجھ\n",
    " تجھی تجھے ترا تری تلک تم تمام تمہارا تمہاروں تمہاری تمہارے تمہیں تو تک تھا تھی تھیں تھے تیرا تیری تیرے\n",
    " جا جاؤ جائیں جائے جاتا جاتی جاتے جانی جانے جب جبکہ جدھر جس جسے جن جناب جنہوں جنہیں جو جہاں جی جیسا\n",
    " جیسوں جیسی جیسے حالانکہ حالاں حصہ حضرت خاطر خالی خواہ خوب خود دائیں درمیان دریں دو دوران دوسرا دوسروں دوسری دوں\n",
    " دکھائیں دی دیئے دیا دیتا دیتی دیتے دیر دینا دینی دینے دیکھو دیں دیے دے ذریعے رکھا رکھتا رکھتی رکھتے رکھنا رکھنی\n",
    " رکھنے رکھو رکھی رکھے رہ رہا رہتا رہتی رہتے رہنا رہنی رہنے رہو رہی رہیں رہے ساتھ سامنے ساڑھے سب سبھی\n",
    " سراسر سمیت سوا سوائے سکا سکتا سکتے سہ سہی سی سے شاید شکریہ صاحب صاحبہ صرف ضرور طرح طرف طور علاوہ عین\n",
    " فقط فلاں فی قبل قطا لئے لائی لائے لاتا لاتی لاتے لانا لانی لانے لایا لو لوجی لوگوں لگ لگا لگتا\n",
    " لگتی لگی لگیں لگے لہذا لی لیا لیتا لیتی لیتے لیکن لیں لیے لے ماسوا مت مجھ مجھی مجھے محترم محترمہ محض\n",
    " مرا مرحبا مری مرے مزید مس مسز مسٹر مطابق مل مکرمی مگر مگھر مہربانی میرا میروں میری میرے میں نا نزدیک\n",
    " نما نہ نہیں نیز نیچے نے و وار واسطے واقعی والا والوں والی والے واہ وجہ ورنہ وغیرہ ولے وگرنہ وہ وہاں\n",
    " وہی وہیں ویسا ویسے ویں پاس پایا پر پس پلیز پون پونی پونے پھر پہ پہلا پہلی پہلے پیر پیچھے چاہئے\n",
    " چاہتے چاہیئے چاہے چلا چلو چلیں چلے چناچہ چند چونکہ چکی چکیں چکے ڈالنا ڈالنی ڈالنے ڈالے کئے کا کاش کب کبھی\n",
    " کدھر کر کرتا کرتی کرتے کرم کرنا کرنے کرو کریں کرے کس کسی کسے کم کن کنہیں کو کوئی کون کونسا\n",
    " کونسے کچھ کہ کہا کہاں کہہ کہی کہیں کہے کی کیا کیسا کیسے کیونکر کیونکہ کیوں کیے کے گئی گئے گا گنا\n",
    " گو گویا گی گیا ہائیں ہائے ہاں ہر ہرچند ہرگز ہم ہمارا ہماری ہمارے ہمی ہمیں ہو ہوئی ہوئیں ہوئے ہوا\n",
    " ہوبہو ہوتا ہوتی ہوتیں ہوتے ہونا ہونگے ہونی ہونے ہوں ہی ہیلو ہیں ہے یا یات یعنی یک یہ یہاں یہی یہیں\n",
    "\"\"\".split())\n",
    "\n",
    "\n",
    "def remove_stopwords(text: str):\n",
    "    return \" \".join(word for word in text.split() if word not in STOP_WORDS)"
   ]
  },
  {
   "cell_type": "code",
   "execution_count": 9,
   "id": "b5ba8ec8",
   "metadata": {},
   "outputs": [],
   "source": [
    "def preprocessing(text):\n",
    "    text = normalize(text)\n",
    "    text = ppro.normalize_whitespace(text)\n",
    "    text = ppro.remove_punctuation(text)\n",
    "    text = ppro.remove_accents(text)\n",
    "    text = ppro.replace_urls(text)\n",
    "    text = ppro.replace_emails(text)\n",
    "    text = ppro.replace_phone_numbers(text)\n",
    "    text = ppro.replace_numbers(text)\n",
    "    text = ppro.replace_currency_symbols(text)\n",
    "    text = ppro.remove_english_alphabets(text)    \n",
    "    text = re.sub(r'\\<a href', ' ', text)\n",
    "    text = re.sub(r'&amp;', '', text) \n",
    "    text = re.sub(r'<br />', ' ', text)\n",
    "    text = remove_stopwords(text)\n",
    "\n",
    "    return text\n",
    "\n",
    "df[\"review\"] = df[\"review\"].apply(preprocessing)"
   ]
  },
  {
   "cell_type": "code",
   "execution_count": 10,
   "id": "c07fd016",
   "metadata": {},
   "outputs": [
    {
     "data": {
      "text/plain": [
       "review    دہائی وسط کیبل گائیڈ اسکائینجر ہنٹ پہلو اپیل ع...\n",
       "Name: 0, dtype: object"
      ]
     },
     "execution_count": 10,
     "metadata": {},
     "output_type": "execute_result"
    }
   ],
   "source": [
    "# df[['review']].head(10)\n",
    "df[['review']].loc[0]"
   ]
  },
  {
   "cell_type": "code",
   "execution_count": 11,
   "id": "e682172a",
   "metadata": {},
   "outputs": [],
   "source": [
    "from urduhack.models.lemmatizer import lemmatizer\n",
    "def lemitizeStr(str):\n",
    "    lemme_str = \"\"\n",
    "    temp = lemmatizer.lemma_lookup(str)\n",
    "    for t in temp:\n",
    "        lemme_str += t[0] + \" \"\n",
    "    \n",
    "    return lemme_str"
   ]
  },
  {
   "cell_type": "code",
   "execution_count": 12,
   "id": "8b4ed2be",
   "metadata": {},
   "outputs": [],
   "source": [
    "df['review'] =  df['review'].apply(remove_stopwords)"
   ]
  },
  {
   "cell_type": "code",
   "execution_count": 13,
   "id": "02e96162",
   "metadata": {},
   "outputs": [],
   "source": [
    "df['lemmatized_text'] = df['review'].apply(lemitizeStr)"
   ]
  },
  {
   "cell_type": "code",
   "execution_count": 16,
   "id": "70c089fc",
   "metadata": {},
   "outputs": [],
   "source": [
    "import spacy\n",
    "nlp = spacy.blank('ur')\n",
    "def tokenizer(str):\n",
    "    doc = nlp.tokenizer(str)\n",
    "    return [i.text for i in doc]"
   ]
  },
  {
   "cell_type": "code",
   "execution_count": 17,
   "id": "fa1e1cd7",
   "metadata": {},
   "outputs": [],
   "source": [
    "df[\"tokens\"] = df[\"lemmatized_text\"].apply(tokenizer)"
   ]
  },
  {
   "cell_type": "code",
   "execution_count": 20,
   "id": "389854e5",
   "metadata": {},
   "outputs": [
    {
     "data": {
      "text/html": [
       "<div>\n",
       "<style scoped>\n",
       "    .dataframe tbody tr th:only-of-type {\n",
       "        vertical-align: middle;\n",
       "    }\n",
       "\n",
       "    .dataframe tbody tr th {\n",
       "        vertical-align: top;\n",
       "    }\n",
       "\n",
       "    .dataframe thead th {\n",
       "        text-align: right;\n",
       "    }\n",
       "</style>\n",
       "<table border=\"1\" class=\"dataframe\">\n",
       "  <thead>\n",
       "    <tr style=\"text-align: right;\">\n",
       "      <th></th>\n",
       "      <th>review</th>\n",
       "      <th>sentiment</th>\n",
       "      <th>encoded_sentiments</th>\n",
       "      <th>lemmatized_text</th>\n",
       "      <th>tokens</th>\n",
       "    </tr>\n",
       "  </thead>\n",
       "  <tbody>\n",
       "    <tr>\n",
       "      <th>0</th>\n",
       "      <td>دہائی وسط کیبل گائیڈ اسکائینجر ہنٹ پہلو اپیل ع...</td>\n",
       "      <td>positive</td>\n",
       "      <td>1</td>\n",
       "      <td>دہائی وسط کیبل گائیڈ اسکائینجر ہنٹ پہلو اپیل ع...</td>\n",
       "      <td>[دہائی, وسط, کیبل, گائیڈ, اسکائینجر, ہنٹ, پہلو...</td>\n",
       "    </tr>\n",
       "    <tr>\n",
       "      <th>1</th>\n",
       "      <td>دہائی انسپکٹر گیجٹ کارٹون پسند فلم دیکھنے پیسہ...</td>\n",
       "      <td>negative</td>\n",
       "      <td>0</td>\n",
       "      <td>دہائی انسپکٹر گیجٹ کارٹون پسند فلم دیکھنے پیسہ...</td>\n",
       "      <td>[دہائی, انسپکٹر, گیجٹ, کارٹون, پسند, فلم, دیکھ...</td>\n",
       "    </tr>\n",
       "    <tr>\n",
       "      <th>2</th>\n",
       "      <td>معاشرے حالت تعجب والد پیدا البرٹ ٹی فٹزجیرالڈ ...</td>\n",
       "      <td>positive</td>\n",
       "      <td>1</td>\n",
       "      <td>معاشرے حالت تعجب والد پیدا البرٹ ٹی فٹزجیرالڈ ...</td>\n",
       "      <td>[معاشرے, حالت, تعجب, والد, پیدا, البرٹ, ٹی, فٹ...</td>\n",
       "    </tr>\n",
       "    <tr>\n",
       "      <th>3</th>\n",
       "      <td>مفید البرٹ پیون ردی ٹوکری گریڈ زیڈ جلدی ٹم تھا...</td>\n",
       "      <td>negative</td>\n",
       "      <td>0</td>\n",
       "      <td>مفید البرٹ پیون ردی ٹوکری گریڈ زیڈ جلدی ٹم تھا...</td>\n",
       "      <td>[مفید, البرٹ, پیون, ردی, ٹوکری, گریڈ, زیڈ, جلد...</td>\n",
       "    </tr>\n",
       "    <tr>\n",
       "      <th>4</th>\n",
       "      <td>کولمبو ہدایتکاری کیریئر ابتدائی وقت اسٹیون اسپ...</td>\n",
       "      <td>positive</td>\n",
       "      <td>1</td>\n",
       "      <td>کولمبو ہدایتکاری کیریئر ابتدائی وقت اسٹیون اسپ...</td>\n",
       "      <td>[کولمبو, ہدایتکاری, کیریئر, ابتدائی, وقت, اسٹی...</td>\n",
       "    </tr>\n",
       "  </tbody>\n",
       "</table>\n",
       "</div>"
      ],
      "text/plain": [
       "                                              review sentiment  \\\n",
       "0  دہائی وسط کیبل گائیڈ اسکائینجر ہنٹ پہلو اپیل ع...  positive   \n",
       "1  دہائی انسپکٹر گیجٹ کارٹون پسند فلم دیکھنے پیسہ...  negative   \n",
       "2  معاشرے حالت تعجب والد پیدا البرٹ ٹی فٹزجیرالڈ ...  positive   \n",
       "3  مفید البرٹ پیون ردی ٹوکری گریڈ زیڈ جلدی ٹم تھا...  negative   \n",
       "4  کولمبو ہدایتکاری کیریئر ابتدائی وقت اسٹیون اسپ...  positive   \n",
       "\n",
       "   encoded_sentiments                                    lemmatized_text  \\\n",
       "0                   1  دہائی وسط کیبل گائیڈ اسکائینجر ہنٹ پہلو اپیل ع...   \n",
       "1                   0  دہائی انسپکٹر گیجٹ کارٹون پسند فلم دیکھنے پیسہ...   \n",
       "2                   1  معاشرے حالت تعجب والد پیدا البرٹ ٹی فٹزجیرالڈ ...   \n",
       "3                   0  مفید البرٹ پیون ردی ٹوکری گریڈ زیڈ جلدی ٹم تھا...   \n",
       "4                   1  کولمبو ہدایتکاری کیریئر ابتدائی وقت اسٹیون اسپ...   \n",
       "\n",
       "                                              tokens  \n",
       "0  [دہائی, وسط, کیبل, گائیڈ, اسکائینجر, ہنٹ, پہلو...  \n",
       "1  [دہائی, انسپکٹر, گیجٹ, کارٹون, پسند, فلم, دیکھ...  \n",
       "2  [معاشرے, حالت, تعجب, والد, پیدا, البرٹ, ٹی, فٹ...  \n",
       "3  [مفید, البرٹ, پیون, ردی, ٹوکری, گریڈ, زیڈ, جلد...  \n",
       "4  [کولمبو, ہدایتکاری, کیریئر, ابتدائی, وقت, اسٹی...  "
      ]
     },
     "execution_count": 20,
     "metadata": {},
     "output_type": "execute_result"
    }
   ],
   "source": [
    "df.head()"
   ]
  },
  {
   "cell_type": "code",
   "execution_count": 23,
   "id": "186a7fd1",
   "metadata": {},
   "outputs": [],
   "source": [
    "df[['lemmatized_text', 'encoded_sentiments', \"tokens\"]].to_csv(\"../DataSets/IMDB_Urdu_Reviews/preprocessed.csv\")"
   ]
  },
  {
   "cell_type": "code",
   "execution_count": 24,
   "id": "9e7503c0",
   "metadata": {},
   "outputs": [
    {
     "data": {
      "text/html": [
       "<div>\n",
       "<style scoped>\n",
       "    .dataframe tbody tr th:only-of-type {\n",
       "        vertical-align: middle;\n",
       "    }\n",
       "\n",
       "    .dataframe tbody tr th {\n",
       "        vertical-align: top;\n",
       "    }\n",
       "\n",
       "    .dataframe thead th {\n",
       "        text-align: right;\n",
       "    }\n",
       "</style>\n",
       "<table border=\"1\" class=\"dataframe\">\n",
       "  <thead>\n",
       "    <tr style=\"text-align: right;\">\n",
       "      <th></th>\n",
       "      <th>Unnamed: 0</th>\n",
       "      <th>lemmatized_text</th>\n",
       "      <th>encoded_sentiments</th>\n",
       "      <th>tokens</th>\n",
       "    </tr>\n",
       "  </thead>\n",
       "  <tbody>\n",
       "    <tr>\n",
       "      <th>0</th>\n",
       "      <td>0</td>\n",
       "      <td>دہائی وسط کیبل گائیڈ اسکائینجر ہنٹ پہلو اپیل ع...</td>\n",
       "      <td>1</td>\n",
       "      <td>['دہائی', 'وسط', 'کیبل', 'گائیڈ', 'اسکائینجر',...</td>\n",
       "    </tr>\n",
       "    <tr>\n",
       "      <th>1</th>\n",
       "      <td>1</td>\n",
       "      <td>دہائی انسپکٹر گیجٹ کارٹون پسند فلم دیکھنے پیسہ...</td>\n",
       "      <td>0</td>\n",
       "      <td>['دہائی', 'انسپکٹر', 'گیجٹ', 'کارٹون', 'پسند',...</td>\n",
       "    </tr>\n",
       "    <tr>\n",
       "      <th>2</th>\n",
       "      <td>2</td>\n",
       "      <td>معاشرے حالت تعجب والد پیدا البرٹ ٹی فٹزجیرالڈ ...</td>\n",
       "      <td>1</td>\n",
       "      <td>['معاشرے', 'حالت', 'تعجب', 'والد', 'پیدا', 'ال...</td>\n",
       "    </tr>\n",
       "    <tr>\n",
       "      <th>3</th>\n",
       "      <td>3</td>\n",
       "      <td>مفید البرٹ پیون ردی ٹوکری گریڈ زیڈ جلدی ٹم تھا...</td>\n",
       "      <td>0</td>\n",
       "      <td>['مفید', 'البرٹ', 'پیون', 'ردی', 'ٹوکری', 'گری...</td>\n",
       "    </tr>\n",
       "    <tr>\n",
       "      <th>4</th>\n",
       "      <td>4</td>\n",
       "      <td>کولمبو ہدایتکاری کیریئر ابتدائی وقت اسٹیون اسپ...</td>\n",
       "      <td>1</td>\n",
       "      <td>['کولمبو', 'ہدایتکاری', 'کیریئر', 'ابتدائی', '...</td>\n",
       "    </tr>\n",
       "    <tr>\n",
       "      <th>...</th>\n",
       "      <td>...</td>\n",
       "      <td>...</td>\n",
       "      <td>...</td>\n",
       "      <td>...</td>\n",
       "    </tr>\n",
       "    <tr>\n",
       "      <th>49995</th>\n",
       "      <td>49995</td>\n",
       "      <td>چیخنا بڑے اسٹوڈیو ہارر پراڈکٹ چیز دنوں مجبور ہ...</td>\n",
       "      <td>1</td>\n",
       "      <td>['چیخنا', 'بڑے', 'اسٹوڈیو', 'ہارر', 'پراڈکٹ', ...</td>\n",
       "    </tr>\n",
       "    <tr>\n",
       "      <th>49996</th>\n",
       "      <td>49996</td>\n",
       "      <td>براہ راست چھوٹی چھوٹی چھوٹی چھوٹی مدت دورانیہ ...</td>\n",
       "      <td>1</td>\n",
       "      <td>['براہ', 'راست', 'چھوٹی', 'چھوٹی', 'چھوٹی', 'چ...</td>\n",
       "    </tr>\n",
       "    <tr>\n",
       "      <th>49997</th>\n",
       "      <td>49997</td>\n",
       "      <td>فلم کل رات آدھی رات چپکے پیش کش اسکریننگ دیکھا...</td>\n",
       "      <td>0</td>\n",
       "      <td>['فلم', 'کل', 'رات', 'آدھی', 'رات', 'چپکے', 'پ...</td>\n",
       "    </tr>\n",
       "    <tr>\n",
       "      <th>49998</th>\n",
       "      <td>49998</td>\n",
       "      <td>دیکھنا آسان فلم تین گھنٹے زیادہ لمبا مکمل گفتگ...</td>\n",
       "      <td>1</td>\n",
       "      <td>['دیکھنا', 'آسان', 'فلم', 'تین', 'گھنٹے', 'زیا...</td>\n",
       "    </tr>\n",
       "    <tr>\n",
       "      <th>49999</th>\n",
       "      <td>49999</td>\n",
       "      <td>ناگرا قدامت پسند ہندوستانی خاندان تعلق مقابلہ ...</td>\n",
       "      <td>1</td>\n",
       "      <td>['ناگرا', 'قدامت', 'پسند', 'ہندوستانی', 'خاندا...</td>\n",
       "    </tr>\n",
       "  </tbody>\n",
       "</table>\n",
       "<p>50000 rows × 4 columns</p>\n",
       "</div>"
      ],
      "text/plain": [
       "       Unnamed: 0                                    lemmatized_text  \\\n",
       "0               0  دہائی وسط کیبل گائیڈ اسکائینجر ہنٹ پہلو اپیل ع...   \n",
       "1               1  دہائی انسپکٹر گیجٹ کارٹون پسند فلم دیکھنے پیسہ...   \n",
       "2               2  معاشرے حالت تعجب والد پیدا البرٹ ٹی فٹزجیرالڈ ...   \n",
       "3               3  مفید البرٹ پیون ردی ٹوکری گریڈ زیڈ جلدی ٹم تھا...   \n",
       "4               4  کولمبو ہدایتکاری کیریئر ابتدائی وقت اسٹیون اسپ...   \n",
       "...           ...                                                ...   \n",
       "49995       49995  چیخنا بڑے اسٹوڈیو ہارر پراڈکٹ چیز دنوں مجبور ہ...   \n",
       "49996       49996  براہ راست چھوٹی چھوٹی چھوٹی چھوٹی مدت دورانیہ ...   \n",
       "49997       49997  فلم کل رات آدھی رات چپکے پیش کش اسکریننگ دیکھا...   \n",
       "49998       49998  دیکھنا آسان فلم تین گھنٹے زیادہ لمبا مکمل گفتگ...   \n",
       "49999       49999  ناگرا قدامت پسند ہندوستانی خاندان تعلق مقابلہ ...   \n",
       "\n",
       "       encoded_sentiments                                             tokens  \n",
       "0                       1  ['دہائی', 'وسط', 'کیبل', 'گائیڈ', 'اسکائینجر',...  \n",
       "1                       0  ['دہائی', 'انسپکٹر', 'گیجٹ', 'کارٹون', 'پسند',...  \n",
       "2                       1  ['معاشرے', 'حالت', 'تعجب', 'والد', 'پیدا', 'ال...  \n",
       "3                       0  ['مفید', 'البرٹ', 'پیون', 'ردی', 'ٹوکری', 'گری...  \n",
       "4                       1  ['کولمبو', 'ہدایتکاری', 'کیریئر', 'ابتدائی', '...  \n",
       "...                   ...                                                ...  \n",
       "49995                   1  ['چیخنا', 'بڑے', 'اسٹوڈیو', 'ہارر', 'پراڈکٹ', ...  \n",
       "49996                   1  ['براہ', 'راست', 'چھوٹی', 'چھوٹی', 'چھوٹی', 'چ...  \n",
       "49997                   0  ['فلم', 'کل', 'رات', 'آدھی', 'رات', 'چپکے', 'پ...  \n",
       "49998                   1  ['دیکھنا', 'آسان', 'فلم', 'تین', 'گھنٹے', 'زیا...  \n",
       "49999                   1  ['ناگرا', 'قدامت', 'پسند', 'ہندوستانی', 'خاندا...  \n",
       "\n",
       "[50000 rows x 4 columns]"
      ]
     },
     "execution_count": 24,
     "metadata": {},
     "output_type": "execute_result"
    }
   ],
   "source": [
    "pd.read_csv(\"../DataSets/IMDB_Urdu_Reviews/preprocessed.csv\")"
   ]
  },
  {
   "cell_type": "code",
   "execution_count": null,
   "id": "a9141beb",
   "metadata": {},
   "outputs": [],
   "source": []
  }
 ],
 "metadata": {
  "kernelspec": {
   "display_name": "Python 3 (ipykernel)",
   "language": "python",
   "name": "python3"
  },
  "language_info": {
   "codemirror_mode": {
    "name": "ipython",
    "version": 3
   },
   "file_extension": ".py",
   "mimetype": "text/x-python",
   "name": "python",
   "nbconvert_exporter": "python",
   "pygments_lexer": "ipython3",
   "version": "3.9.12"
  }
 },
 "nbformat": 4,
 "nbformat_minor": 5
}
