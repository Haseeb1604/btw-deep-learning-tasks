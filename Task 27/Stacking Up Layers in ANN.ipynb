{
 "cells": [
  {
   "cell_type": "code",
   "execution_count": 129,
   "id": "247e9285",
   "metadata": {},
   "outputs": [],
   "source": [
    "import numpy as np\n",
    "from tensorflow.keras.preprocessing.text import one_hot\n",
    "from tensorflow.keras.preprocessing.sequence import pad_sequences\n",
    "from tensorflow.keras.models import Sequential\n",
    "from tensorflow.keras.layers import Dense\n",
    "from tensorflow.keras.layers import Flatten\n",
    "from tensorflow.keras.layers import Embedding\n",
    "import os\n",
    "import pandas as pd"
   ]
  },
  {
   "cell_type": "code",
   "execution_count": 131,
   "id": "a9a9b099",
   "metadata": {},
   "outputs": [],
   "source": [
    "# Get the current directory\n",
    "_dir = \"../DataSets/IMDB_Urdu_Reviews\"\n",
    "file = _dir + \"/preprocessed.csv\"\n",
    "df = pd.read_csv(file)"
   ]
  },
  {
   "cell_type": "code",
   "execution_count": 156,
   "id": "fa83044d",
   "metadata": {},
   "outputs": [
    {
     "data": {
      "text/html": [
       "<div>\n",
       "<style scoped>\n",
       "    .dataframe tbody tr th:only-of-type {\n",
       "        vertical-align: middle;\n",
       "    }\n",
       "\n",
       "    .dataframe tbody tr th {\n",
       "        vertical-align: top;\n",
       "    }\n",
       "\n",
       "    .dataframe thead th {\n",
       "        text-align: right;\n",
       "    }\n",
       "</style>\n",
       "<table border=\"1\" class=\"dataframe\">\n",
       "  <thead>\n",
       "    <tr style=\"text-align: right;\">\n",
       "      <th></th>\n",
       "      <th>lemmatized_text</th>\n",
       "      <th>encoded_sentiments</th>\n",
       "      <th>tokens</th>\n",
       "    </tr>\n",
       "  </thead>\n",
       "  <tbody>\n",
       "    <tr>\n",
       "      <th>0</th>\n",
       "      <td>دہائی وسط کیبل گائیڈ اسکائینجر ہنٹ پہلو اپیل ع...</td>\n",
       "      <td>1</td>\n",
       "      <td>['دہائی', 'وسط', 'کیبل', 'گائیڈ', 'اسکائینجر',...</td>\n",
       "    </tr>\n",
       "    <tr>\n",
       "      <th>1</th>\n",
       "      <td>دہائی انسپکٹر گیجٹ کارٹون پسند فلم دیکھنے پیسہ...</td>\n",
       "      <td>0</td>\n",
       "      <td>['دہائی', 'انسپکٹر', 'گیجٹ', 'کارٹون', 'پسند',...</td>\n",
       "    </tr>\n",
       "    <tr>\n",
       "      <th>2</th>\n",
       "      <td>معاشرے حالت تعجب والد پیدا البرٹ ٹی فٹزجیرالڈ ...</td>\n",
       "      <td>1</td>\n",
       "      <td>['معاشرے', 'حالت', 'تعجب', 'والد', 'پیدا', 'ال...</td>\n",
       "    </tr>\n",
       "    <tr>\n",
       "      <th>3</th>\n",
       "      <td>مفید البرٹ پیون ردی ٹوکری گریڈ زیڈ جلدی ٹم تھا...</td>\n",
       "      <td>0</td>\n",
       "      <td>['مفید', 'البرٹ', 'پیون', 'ردی', 'ٹوکری', 'گری...</td>\n",
       "    </tr>\n",
       "    <tr>\n",
       "      <th>4</th>\n",
       "      <td>کولمبو ہدایتکاری کیریئر ابتدائی وقت اسٹیون اسپ...</td>\n",
       "      <td>1</td>\n",
       "      <td>['کولمبو', 'ہدایتکاری', 'کیریئر', 'ابتدائی', '...</td>\n",
       "    </tr>\n",
       "  </tbody>\n",
       "</table>\n",
       "</div>"
      ],
      "text/plain": [
       "                                     lemmatized_text  encoded_sentiments  \\\n",
       "0  دہائی وسط کیبل گائیڈ اسکائینجر ہنٹ پہلو اپیل ع...                   1   \n",
       "1  دہائی انسپکٹر گیجٹ کارٹون پسند فلم دیکھنے پیسہ...                   0   \n",
       "2  معاشرے حالت تعجب والد پیدا البرٹ ٹی فٹزجیرالڈ ...                   1   \n",
       "3  مفید البرٹ پیون ردی ٹوکری گریڈ زیڈ جلدی ٹم تھا...                   0   \n",
       "4  کولمبو ہدایتکاری کیریئر ابتدائی وقت اسٹیون اسپ...                   1   \n",
       "\n",
       "                                              tokens  \n",
       "0  ['دہائی', 'وسط', 'کیبل', 'گائیڈ', 'اسکائینجر',...  \n",
       "1  ['دہائی', 'انسپکٹر', 'گیجٹ', 'کارٹون', 'پسند',...  \n",
       "2  ['معاشرے', 'حالت', 'تعجب', 'والد', 'پیدا', 'ال...  \n",
       "3  ['مفید', 'البرٹ', 'پیون', 'ردی', 'ٹوکری', 'گری...  \n",
       "4  ['کولمبو', 'ہدایتکاری', 'کیریئر', 'ابتدائی', '...  "
      ]
     },
     "execution_count": 156,
     "metadata": {},
     "output_type": "execute_result"
    }
   ],
   "source": [
    "df.head()"
   ]
  },
  {
   "cell_type": "code",
   "execution_count": 136,
   "id": "16703adc",
   "metadata": {},
   "outputs": [],
   "source": [
    "reviews = df[\"lemmatized_text\"]\n"
   ]
  },
  {
   "cell_type": "code",
   "execution_count": 135,
   "id": "33451782",
   "metadata": {},
   "outputs": [],
   "source": [
    "# reviews = ['nice food',\n",
    "#         'amazing restaurant',\n",
    "#         'too good',\n",
    "#         'just loved it!',\n",
    "#         'will go there again',\n",
    "#         'horrible food',\n",
    "#         'never go there',\n",
    "#         'poor service',\n",
    "#         'poor quality of food',\n",
    "#         'needs improvement']\n",
    "\n",
    "# sentiment = np.array([1,1,1,1,1,0,0,0,0,0])"
   ]
  },
  {
   "cell_type": "code",
   "execution_count": 102,
   "id": "febda9c5",
   "metadata": {},
   "outputs": [
    {
     "data": {
      "text/plain": [
       "[11, 9]"
      ]
     },
     "execution_count": 102,
     "metadata": {},
     "output_type": "execute_result"
    }
   ],
   "source": [
    "one_hot(\"amazing restaurant\", 30)"
   ]
  },
  {
   "cell_type": "code",
   "execution_count": 137,
   "id": "5c4a91bc",
   "metadata": {},
   "outputs": [],
   "source": [
    "vocab_size = max([len(w) for w in reviews])"
   ]
  },
  {
   "cell_type": "code",
   "execution_count": 140,
   "id": "1b674250",
   "metadata": {},
   "outputs": [],
   "source": [
    "encoded_reviews = [one_hot(rev, vocab_size) for rev in reviews]"
   ]
  },
  {
   "cell_type": "code",
   "execution_count": 160,
   "id": "5526ea67",
   "metadata": {},
   "outputs": [],
   "source": [
    "max_len = max([len(review.split()) for review in reviews])"
   ]
  },
  {
   "cell_type": "code",
   "execution_count": 153,
   "id": "840d8383",
   "metadata": {},
   "outputs": [
    {
     "data": {
      "text/plain": [
       "1398"
      ]
     },
     "execution_count": 153,
     "metadata": {},
     "output_type": "execute_result"
    }
   ],
   "source": [
    "max_len"
   ]
  },
  {
   "cell_type": "code",
   "execution_count": 154,
   "id": "333c05da",
   "metadata": {},
   "outputs": [],
   "source": [
    "padded = pad_sequences(encoded_reviews, max_len, padding='post')"
   ]
  },
  {
   "cell_type": "code",
   "execution_count": 157,
   "id": "0269ff42",
   "metadata": {},
   "outputs": [],
   "source": [
    "X = padded\n",
    "y = df.encoded_sentiments"
   ]
  },
  {
   "cell_type": "code",
   "execution_count": 267,
   "id": "a87c4425",
   "metadata": {},
   "outputs": [],
   "source": [
    "embeded_vector_size = 90"
   ]
  },
  {
   "cell_type": "code",
   "execution_count": 275,
   "id": "f7313442",
   "metadata": {},
   "outputs": [],
   "source": [
    "from sklearn.model_selection import train_test_split\n",
    "\n",
    "X_train, X_test, y_train, y_test = train_test_split(X, y, test_size=0.20, random_state=42)"
   ]
  },
  {
   "cell_type": "code",
   "execution_count": null,
   "id": "b5020a69",
   "metadata": {},
   "outputs": [],
   "source": [
    "from tensorflow.keras import regularizers\n",
    "from tensorflow.keras.callbacks import EarlyStopping\n",
    "from tensorflow.keras.optimizers import RMSprop, Adam\n",
    "from sklearn.metrics import precision_recall_fscore_support\n",
    "from sklearn.metrics import classification_report\n",
    "import matplotlib.pyplot as plt"
   ]
  },
  {
   "cell_type": "code",
   "execution_count": 270,
   "id": "450574ee",
   "metadata": {},
   "outputs": [],
   "source": [
    "def plotHistory(history):\n",
    "    training_loss = history.history['loss']\n",
    "    training_accuracy = history.history['accuracy']\n",
    "    validation_loss = history.history['val_loss']\n",
    "    validation_accuracy = history.history['val_accuracy']\n",
    "\n",
    "    fig, axes = plt.subplots(1, 2, figsize=(14, 6))\n",
    "\n",
    "    axes[0].plot(training_loss, label='Training Loss')\n",
    "    axes[0].plot(validation_loss, label='Validation Loss')\n",
    "    axes[0].set_xlabel('Epoch')\n",
    "    axes[0].set_ylabel('Loss')\n",
    "    axes[0].set_title('Training and Validation Loss')\n",
    "    axes[0].legend()\n",
    "\n",
    "    axes[1].plot(training_accuracy, label='Training Accuracy')\n",
    "    axes[1].plot(validation_accuracy, label='Validation Accuracy')\n",
    "    axes[1].set_xlabel('Epoch')\n",
    "    axes[1].set_ylabel('Accuracy')\n",
    "    axes[1].set_title('Training and Validation Accuracy')\n",
    "    axes[1].legend()\n",
    "\n",
    "    plt.tight_layout()\n",
    "    plt.show()\n",
    "\n",
    "def Evaluate(model, X, y):\n",
    "    loss, accuracy = model.evaluate(X, y)\n",
    "    \n",
    "    y_pred = model.predict(X_test)\n",
    "    y_pred = np.where(y_pred > 0.5, 1, 0)\n",
    "    \n",
    "    print(classification_report(y, y_pred))\n",
    "    \n",
    "    precision, recall, f1_score, support = precision_recall_fscore_support(y, y_pred, average='binary')\n",
    "\n",
    "    print()\n",
    "    print(\"Accuracy   : \", accuracy)\n",
    "    print(\"Loss       : \", loss)\n",
    "    print(\"Precision  : \", precision)\n",
    "    print(\"Recall     : \", recall)\n",
    "    print(\"F1-Score   : \", f1_score)\n",
    "    print(\"Support    : \", support)"
   ]
  },
  {
   "cell_type": "code",
   "execution_count": 283,
   "id": "d01953e1",
   "metadata": {},
   "outputs": [],
   "source": [
    "early_stopping = EarlyStopping(patience=3, restore_best_weights=True)"
   ]
  },
  {
   "cell_type": "code",
   "execution_count": 276,
   "id": "4f0903fa",
   "metadata": {},
   "outputs": [
    {
     "name": "stdout",
     "output_type": "stream",
     "text": [
      "Model: \"sequential_35\"\n",
      "_________________________________________________________________\n",
      " Layer (type)                Output Shape              Param #   \n",
      "=================================================================\n",
      " ANN_embedding (Embedding)   (None, 1398, 90)          646560    \n",
      "                                                                 \n",
      " flatten_34 (Flatten)        (None, 125820)            0         \n",
      "                                                                 \n",
      " dense_90 (Dense)            (None, 32)                4026272   \n",
      "                                                                 \n",
      " dense_91 (Dense)            (None, 1)                 33        \n",
      "                                                                 \n",
      "=================================================================\n",
      "Total params: 4,672,865\n",
      "Trainable params: 4,672,865\n",
      "Non-trainable params: 0\n",
      "_________________________________________________________________\n",
      "None\n"
     ]
    }
   ],
   "source": [
    "ANN = Sequential()\n",
    "ANN.add(Embedding(vocab_size, embeded_vector_size, input_length=max_len, name=\"ANN_embedding\"))\n",
    "ANN.add(Flatten())\n",
    "ANN.add(Dense(32, activation='relu', kernel_regularizer=regularizers.l2(0.01)))\n",
    "# model.add(Dropout(0.5))\n",
    "ANN.add(Dense(1, activation='sigmoid'))\n",
    "\n",
    "ANN.compile(optimizer=\"adam\", loss='binary_crossentropy', metrics=['accuracy'])\n",
    "print(ANN.summary())"
   ]
  },
  {
   "cell_type": "code",
   "execution_count": 277,
   "id": "cdacc3e3",
   "metadata": {
    "scrolled": true
   },
   "outputs": [
    {
     "name": "stdout",
     "output_type": "stream",
     "text": [
      "Epoch 1/10\n",
      "1250/1250 [==============================] - 91s 73ms/step - loss: 0.5987 - accuracy: 0.7089 - val_loss: 0.4721 - val_accuracy: 0.8222\n",
      "Epoch 2/10\n",
      "1250/1250 [==============================] - 87s 70ms/step - loss: 0.4329 - accuracy: 0.8434 - val_loss: 0.4492 - val_accuracy: 0.8348\n",
      "Epoch 3/10\n",
      "1250/1250 [==============================] - 88s 71ms/step - loss: 0.4028 - accuracy: 0.8622 - val_loss: 0.4778 - val_accuracy: 0.8365\n",
      "Epoch 4/10\n",
      "1250/1250 [==============================] - 87s 69ms/step - loss: 0.3732 - accuracy: 0.8864 - val_loss: 0.4847 - val_accuracy: 0.8363\n",
      "Epoch 5/10\n",
      "1250/1250 [==============================] - 88s 70ms/step - loss: 0.3152 - accuracy: 0.9291 - val_loss: 0.5503 - val_accuracy: 0.8230\n"
     ]
    }
   ],
   "source": [
    "ANN_History = ANN.fit(X_train, y_train, validation_data=(X_test, y_test), epochs=10, batch_size=32, callbacks=[early_stopping])"
   ]
  },
  {
   "cell_type": "code",
   "execution_count": 278,
   "id": "36cbb2fa",
   "metadata": {},
   "outputs": [
    {
     "name": "stdout",
     "output_type": "stream",
     "text": [
      "313/313 [==============================] - 4s 14ms/step - loss: 0.5503 - accuracy: 0.8230\n",
      "313/313 [==============================] - 4s 12ms/step\n",
      "              precision    recall  f1-score   support\n",
      "\n",
      "           0       0.80      0.86      0.83      4892\n",
      "           1       0.85      0.79      0.82      5108\n",
      "\n",
      "    accuracy                           0.82     10000\n",
      "   macro avg       0.82      0.82      0.82     10000\n",
      "weighted avg       0.83      0.82      0.82     10000\n",
      "\n",
      "\n",
      "Accuracy   :  0.8230000138282776\n",
      "Loss       :  0.5503202080726624\n",
      "Precision  :  0.8524070945945946\n",
      "Recall     :  0.7903288958496476\n",
      "F1-Score   :  0.8201950426655832\n",
      "Support    :  None\n"
     ]
    },
    {
     "data": {
      "image/png": "[encoded data removed]",
      "text/plain": [
       "<Figure size 1008x432 with 2 Axes>"
      ]
     },
     "metadata": {
      "needs_background": "light"
     },
     "output_type": "display_data"
    }
   ],
   "source": [
    "Evaluate(ANN, X_test, y_test)\n",
    "plotHistory(ANN_History)"
   ]
  },
  {
   "cell_type": "code",
   "execution_count": 279,
   "id": "cba5ed55",
   "metadata": {},
   "outputs": [],
   "source": [
    "ANN.save('ANN_E_F_D32_D1.h5')"
   ]
  },
  {
   "cell_type": "code",
   "execution_count": 280,
   "id": "283b5089",
   "metadata": {},
   "outputs": [],
   "source": [
    "from tensorflow.keras.layers import SimpleRNN"
   ]
  },
  {
   "cell_type": "code",
   "execution_count": 284,
   "id": "57ab0692",
   "metadata": {},
   "outputs": [
    {
     "name": "stdout",
     "output_type": "stream",
     "text": [
      "Model: \"sequential_37\"\n",
      "_________________________________________________________________\n",
      " Layer (type)                Output Shape              Param #   \n",
      "=================================================================\n",
      " embedding_9 (Embedding)     (None, 1398, 90)          646560    \n",
      "                                                                 \n",
      " simple_rnn_1 (SimpleRNN)    (None, 1398, 256)         88832     \n",
      "                                                                 \n",
      " dropout_34 (Dropout)        (None, 1398, 256)         0         \n",
      "                                                                 \n",
      " simple_rnn_2 (SimpleRNN)    (None, 256)               131328    \n",
      "                                                                 \n",
      " dropout_35 (Dropout)        (None, 256)               0         \n",
      "                                                                 \n",
      " dense_93 (Dense)            (None, 64)                16448     \n",
      "                                                                 \n",
      " dropout_36 (Dropout)        (None, 64)                0         \n",
      "                                                                 \n",
      " dense_94 (Dense)            (None, 1)                 65        \n",
      "                                                                 \n",
      "=================================================================\n",
      "Total params: 883,233\n",
      "Trainable params: 883,233\n",
      "Non-trainable params: 0\n",
      "_________________________________________________________________\n",
      "None\n"
     ]
    }
   ],
   "source": [
    "RNN = Sequential([\n",
    "    Embedding(vocab_size, embeded_vector_size, input_length=max_len),\n",
    "    SimpleRNN(units=256, return_sequences=True),\n",
    "    Dropout(0.2),\n",
    "    SimpleRNN(units=256),\n",
    "    Dropout(0.2),\n",
    "    Dense(64, activation='relu'),\n",
    "    Dropout(0.2),\n",
    "    Dense(1, activation='sigmoid')\n",
    "])\n",
    "\n",
    "RNN.compile(optimizer=Adam(learning_rate=0.001), loss='binary_crossentropy', metrics=['accuracy'])\n",
    "print(RNN.summary())"
   ]
  },
  {
   "cell_type": "code",
   "execution_count": 286,
   "id": "bcd8d6b8",
   "metadata": {},
   "outputs": [
    {
     "name": "stdout",
     "output_type": "stream",
     "text": [
      "Epoch 1/15\n",
      "1250/1250 [==============================] - 9552s 8s/step - loss: 0.6941 - accuracy: 0.5027 - val_loss: 0.6926 - val_accuracy: 0.5139\n",
      "Epoch 2/15\n",
      "1250/1250 [==============================] - 9502s 8s/step - loss: 0.6941 - accuracy: 0.5038 - val_loss: 0.6940 - val_accuracy: 0.4965\n",
      "Epoch 3/15\n",
      "1250/1250 [==============================] - 6470s 5s/step - loss: 0.6938 - accuracy: 0.5032 - val_loss: 0.6936 - val_accuracy: 0.5108\n",
      "Epoch 4/15\n",
      "1250/1250 [==============================] - 6458s 5s/step - loss: 0.6942 - accuracy: 0.5033 - val_loss: 0.6992 - val_accuracy: 0.4845\n"
     ]
    }
   ],
   "source": [
    "RNN_history = RNN.fit(X_train, y_train, validation_data=(X_test, y_test), epochs=15, batch_size=32, callbacks=[early_stopping])"
   ]
  },
  {
   "cell_type": "code",
   "execution_count": 287,
   "id": "d8e9aaf4",
   "metadata": {},
   "outputs": [
    {
     "name": "stdout",
     "output_type": "stream",
     "text": [
      "313/313 [==============================] - 407s 1s/step - loss: 0.6926 - accuracy: 0.5139\n",
      "313/313 [==============================] - 419s 1s/step\n",
      "              precision    recall  f1-score   support\n",
      "\n",
      "           0       0.50      0.52      0.51      4892\n",
      "           1       0.53      0.51      0.52      5108\n",
      "\n",
      "    accuracy                           0.51     10000\n",
      "   macro avg       0.51      0.51      0.51     10000\n",
      "weighted avg       0.51      0.51      0.51     10000\n",
      "\n",
      "\n",
      "Accuracy   :  0.5138999819755554\n",
      "Loss       :  0.6926244497299194\n",
      "Precision  :  0.5250354753699574\n",
      "Recall     :  0.5070477682067346\n",
      "F1-Score   :  0.5158848720246987\n",
      "Support    :  None\n"
     ]
    },
    {
     "data": {
      "image/png": "[encoded data removed]",
      "text/plain": [
       "<Figure size 1008x432 with 2 Axes>"
      ]
     },
     "metadata": {
      "needs_background": "light"
     },
     "output_type": "display_data"
    }
   ],
   "source": [
    "Evaluate(RNN, X_test, y_test)\n",
    "plotHistory(RNN_history)"
   ]
  },
  {
   "cell_type": "code",
   "execution_count": 288,
   "id": "a67734e7",
   "metadata": {},
   "outputs": [],
   "source": [
    "RNN.save('RNN_E_R64_D1.h5')"
   ]
  },
  {
   "cell_type": "code",
   "execution_count": 289,
   "id": "b19720d2",
   "metadata": {},
   "outputs": [
    {
     "name": "stdout",
     "output_type": "stream",
     "text": [
      "Model: \"sequential_38\"\n",
      "_________________________________________________________________\n",
      " Layer (type)                Output Shape              Param #   \n",
      "=================================================================\n",
      " embedding_10 (Embedding)    (None, 1398, 90)          646560    \n",
      "                                                                 \n",
      " simple_rnn_3 (SimpleRNN)    (None, 1398, 64)          9920      \n",
      "                                                                 \n",
      " dropout_37 (Dropout)        (None, 1398, 64)          0         \n",
      "                                                                 \n",
      " simple_rnn_4 (SimpleRNN)    (None, 32)                3104      \n",
      "                                                                 \n",
      " dropout_38 (Dropout)        (None, 32)                0         \n",
      "                                                                 \n",
      " dense_95 (Dense)            (None, 1)                 33        \n",
      "                                                                 \n",
      "=================================================================\n",
      "Total params: 659,617\n",
      "Trainable params: 659,617\n",
      "Non-trainable params: 0\n",
      "_________________________________________________________________\n",
      "None\n",
      "Epoch 1/15\n",
      "1250/1250 [==============================] - 2067s 2s/step - loss: 0.9050 - accuracy: 0.4988 - val_loss: 0.7115 - val_accuracy: 0.5045\n",
      "Epoch 2/15\n",
      "1250/1250 [==============================] - 2108s 2s/step - loss: 0.7010 - accuracy: 0.4997 - val_loss: 0.6959 - val_accuracy: 0.4892\n",
      "Epoch 3/15\n",
      "1250/1250 [==============================] - 1700s 1s/step - loss: 0.6952 - accuracy: 0.4983 - val_loss: 0.6945 - val_accuracy: 0.5108\n",
      "Epoch 4/15\n",
      " 595/1250 [=============>................] - ETA: 20:25 - loss: 0.6944 - accuracy: 0.4954"
     ]
    },
    {
     "ename": "KeyboardInterrupt",
     "evalue": "",
     "output_type": "error",
     "traceback": [
      "\u001b[1;31m---------------------------------------------------------------------------\u001b[0m",
      "\u001b[1;31mKeyboardInterrupt\u001b[0m                         Traceback (most recent call last)",
      "Input \u001b[1;32mIn [289]\u001b[0m, in \u001b[0;36m<cell line: 13>\u001b[1;34m()\u001b[0m\n\u001b[0;32m     10\u001b[0m RNN2\u001b[38;5;241m.\u001b[39mcompile(optimizer\u001b[38;5;241m=\u001b[39m\u001b[38;5;124m'\u001b[39m\u001b[38;5;124madam\u001b[39m\u001b[38;5;124m'\u001b[39m, loss\u001b[38;5;241m=\u001b[39m\u001b[38;5;124m'\u001b[39m\u001b[38;5;124mbinary_crossentropy\u001b[39m\u001b[38;5;124m'\u001b[39m, metrics\u001b[38;5;241m=\u001b[39m[\u001b[38;5;124m'\u001b[39m\u001b[38;5;124maccuracy\u001b[39m\u001b[38;5;124m'\u001b[39m])\n\u001b[0;32m     11\u001b[0m \u001b[38;5;28mprint\u001b[39m(RNN2\u001b[38;5;241m.\u001b[39msummary())\n\u001b[1;32m---> 13\u001b[0m RNN2_history \u001b[38;5;241m=\u001b[39m \u001b[43mRNN2\u001b[49m\u001b[38;5;241;43m.\u001b[39;49m\u001b[43mfit\u001b[49m\u001b[43m(\u001b[49m\u001b[43mX_train\u001b[49m\u001b[43m,\u001b[49m\u001b[43m \u001b[49m\u001b[43my_train\u001b[49m\u001b[43m,\u001b[49m\u001b[43m \u001b[49m\u001b[43mvalidation_data\u001b[49m\u001b[38;5;241;43m=\u001b[39;49m\u001b[43m(\u001b[49m\u001b[43mX_test\u001b[49m\u001b[43m,\u001b[49m\u001b[43m \u001b[49m\u001b[43my_test\u001b[49m\u001b[43m)\u001b[49m\u001b[43m,\u001b[49m\u001b[43m \u001b[49m\u001b[43mepochs\u001b[49m\u001b[38;5;241;43m=\u001b[39;49m\u001b[38;5;241;43m15\u001b[39;49m\u001b[43m,\u001b[49m\u001b[43m \u001b[49m\u001b[43mbatch_size\u001b[49m\u001b[38;5;241;43m=\u001b[39;49m\u001b[38;5;241;43m32\u001b[39;49m\u001b[43m,\u001b[49m\u001b[43m \u001b[49m\u001b[43mcallbacks\u001b[49m\u001b[38;5;241;43m=\u001b[39;49m\u001b[43m[\u001b[49m\u001b[43mearly_stopping\u001b[49m\u001b[43m]\u001b[49m\u001b[43m)\u001b[49m\n",
      "File \u001b[1;32m~\\Anaconda3\\lib\\site-packages\\keras\\utils\\traceback_utils.py:65\u001b[0m, in \u001b[0;36mfilter_traceback.<locals>.error_handler\u001b[1;34m(*args, **kwargs)\u001b[0m\n\u001b[0;32m     63\u001b[0m filtered_tb \u001b[38;5;241m=\u001b[39m \u001b[38;5;28;01mNone\u001b[39;00m\n\u001b[0;32m     64\u001b[0m \u001b[38;5;28;01mtry\u001b[39;00m:\n\u001b[1;32m---> 65\u001b[0m     \u001b[38;5;28;01mreturn\u001b[39;00m fn(\u001b[38;5;241m*\u001b[39margs, \u001b[38;5;241m*\u001b[39m\u001b[38;5;241m*\u001b[39mkwargs)\n\u001b[0;32m     66\u001b[0m \u001b[38;5;28;01mexcept\u001b[39;00m \u001b[38;5;167;01mException\u001b[39;00m \u001b[38;5;28;01mas\u001b[39;00m e:\n\u001b[0;32m     67\u001b[0m     filtered_tb \u001b[38;5;241m=\u001b[39m _process_traceback_frames(e\u001b[38;5;241m.\u001b[39m__traceback__)\n",
      "File \u001b[1;32m~\\Anaconda3\\lib\\site-packages\\keras\\engine\\training.py:1564\u001b[0m, in \u001b[0;36mModel.fit\u001b[1;34m(self, x, y, batch_size, epochs, verbose, callbacks, validation_split, validation_data, shuffle, class_weight, sample_weight, initial_epoch, steps_per_epoch, validation_steps, validation_batch_size, validation_freq, max_queue_size, workers, use_multiprocessing)\u001b[0m\n\u001b[0;32m   1556\u001b[0m \u001b[38;5;28;01mwith\u001b[39;00m tf\u001b[38;5;241m.\u001b[39mprofiler\u001b[38;5;241m.\u001b[39mexperimental\u001b[38;5;241m.\u001b[39mTrace(\n\u001b[0;32m   1557\u001b[0m     \u001b[38;5;124m\"\u001b[39m\u001b[38;5;124mtrain\u001b[39m\u001b[38;5;124m\"\u001b[39m,\n\u001b[0;32m   1558\u001b[0m     epoch_num\u001b[38;5;241m=\u001b[39mepoch,\n\u001b[1;32m   (...)\u001b[0m\n\u001b[0;32m   1561\u001b[0m     _r\u001b[38;5;241m=\u001b[39m\u001b[38;5;241m1\u001b[39m,\n\u001b[0;32m   1562\u001b[0m ):\n\u001b[0;32m   1563\u001b[0m     callbacks\u001b[38;5;241m.\u001b[39mon_train_batch_begin(step)\n\u001b[1;32m-> 1564\u001b[0m     tmp_logs \u001b[38;5;241m=\u001b[39m \u001b[38;5;28;43mself\u001b[39;49m\u001b[38;5;241;43m.\u001b[39;49m\u001b[43mtrain_function\u001b[49m\u001b[43m(\u001b[49m\u001b[43miterator\u001b[49m\u001b[43m)\u001b[49m\n\u001b[0;32m   1565\u001b[0m     \u001b[38;5;28;01mif\u001b[39;00m data_handler\u001b[38;5;241m.\u001b[39mshould_sync:\n\u001b[0;32m   1566\u001b[0m         context\u001b[38;5;241m.\u001b[39masync_wait()\n",
      "File \u001b[1;32m~\\Anaconda3\\lib\\site-packages\\tensorflow\\python\\util\\traceback_utils.py:150\u001b[0m, in \u001b[0;36mfilter_traceback.<locals>.error_handler\u001b[1;34m(*args, **kwargs)\u001b[0m\n\u001b[0;32m    148\u001b[0m filtered_tb \u001b[38;5;241m=\u001b[39m \u001b[38;5;28;01mNone\u001b[39;00m\n\u001b[0;32m    149\u001b[0m \u001b[38;5;28;01mtry\u001b[39;00m:\n\u001b[1;32m--> 150\u001b[0m   \u001b[38;5;28;01mreturn\u001b[39;00m fn(\u001b[38;5;241m*\u001b[39margs, \u001b[38;5;241m*\u001b[39m\u001b[38;5;241m*\u001b[39mkwargs)\n\u001b[0;32m    151\u001b[0m \u001b[38;5;28;01mexcept\u001b[39;00m \u001b[38;5;167;01mException\u001b[39;00m \u001b[38;5;28;01mas\u001b[39;00m e:\n\u001b[0;32m    152\u001b[0m   filtered_tb \u001b[38;5;241m=\u001b[39m _process_traceback_frames(e\u001b[38;5;241m.\u001b[39m__traceback__)\n",
      "File \u001b[1;32m~\\Anaconda3\\lib\\site-packages\\tensorflow\\python\\eager\\def_function.py:915\u001b[0m, in \u001b[0;36mFunction.__call__\u001b[1;34m(self, *args, **kwds)\u001b[0m\n\u001b[0;32m    912\u001b[0m compiler \u001b[38;5;241m=\u001b[39m \u001b[38;5;124m\"\u001b[39m\u001b[38;5;124mxla\u001b[39m\u001b[38;5;124m\"\u001b[39m \u001b[38;5;28;01mif\u001b[39;00m \u001b[38;5;28mself\u001b[39m\u001b[38;5;241m.\u001b[39m_jit_compile \u001b[38;5;28;01melse\u001b[39;00m \u001b[38;5;124m\"\u001b[39m\u001b[38;5;124mnonXla\u001b[39m\u001b[38;5;124m\"\u001b[39m\n\u001b[0;32m    914\u001b[0m \u001b[38;5;28;01mwith\u001b[39;00m OptionalXlaContext(\u001b[38;5;28mself\u001b[39m\u001b[38;5;241m.\u001b[39m_jit_compile):\n\u001b[1;32m--> 915\u001b[0m   result \u001b[38;5;241m=\u001b[39m \u001b[38;5;28mself\u001b[39m\u001b[38;5;241m.\u001b[39m_call(\u001b[38;5;241m*\u001b[39margs, \u001b[38;5;241m*\u001b[39m\u001b[38;5;241m*\u001b[39mkwds)\n\u001b[0;32m    917\u001b[0m new_tracing_count \u001b[38;5;241m=\u001b[39m \u001b[38;5;28mself\u001b[39m\u001b[38;5;241m.\u001b[39mexperimental_get_tracing_count()\n\u001b[0;32m    918\u001b[0m without_tracing \u001b[38;5;241m=\u001b[39m (tracing_count \u001b[38;5;241m==\u001b[39m new_tracing_count)\n",
      "File \u001b[1;32m~\\Anaconda3\\lib\\site-packages\\tensorflow\\python\\eager\\def_function.py:947\u001b[0m, in \u001b[0;36mFunction._call\u001b[1;34m(self, *args, **kwds)\u001b[0m\n\u001b[0;32m    944\u001b[0m   \u001b[38;5;28mself\u001b[39m\u001b[38;5;241m.\u001b[39m_lock\u001b[38;5;241m.\u001b[39mrelease()\n\u001b[0;32m    945\u001b[0m   \u001b[38;5;66;03m# In this case we have created variables on the first call, so we run the\u001b[39;00m\n\u001b[0;32m    946\u001b[0m   \u001b[38;5;66;03m# defunned version which is guaranteed to never create variables.\u001b[39;00m\n\u001b[1;32m--> 947\u001b[0m   \u001b[38;5;28;01mreturn\u001b[39;00m \u001b[38;5;28mself\u001b[39m\u001b[38;5;241m.\u001b[39m_stateless_fn(\u001b[38;5;241m*\u001b[39margs, \u001b[38;5;241m*\u001b[39m\u001b[38;5;241m*\u001b[39mkwds)  \u001b[38;5;66;03m# pylint: disable=not-callable\u001b[39;00m\n\u001b[0;32m    948\u001b[0m \u001b[38;5;28;01melif\u001b[39;00m \u001b[38;5;28mself\u001b[39m\u001b[38;5;241m.\u001b[39m_stateful_fn \u001b[38;5;129;01mis\u001b[39;00m \u001b[38;5;129;01mnot\u001b[39;00m \u001b[38;5;28;01mNone\u001b[39;00m:\n\u001b[0;32m    949\u001b[0m   \u001b[38;5;66;03m# Release the lock early so that multiple threads can perform the call\u001b[39;00m\n\u001b[0;32m    950\u001b[0m   \u001b[38;5;66;03m# in parallel.\u001b[39;00m\n\u001b[0;32m    951\u001b[0m   \u001b[38;5;28mself\u001b[39m\u001b[38;5;241m.\u001b[39m_lock\u001b[38;5;241m.\u001b[39mrelease()\n",
      "File \u001b[1;32m~\\Anaconda3\\lib\\site-packages\\tensorflow\\python\\eager\\function.py:2496\u001b[0m, in \u001b[0;36mFunction.__call__\u001b[1;34m(self, *args, **kwargs)\u001b[0m\n\u001b[0;32m   2493\u001b[0m \u001b[38;5;28;01mwith\u001b[39;00m \u001b[38;5;28mself\u001b[39m\u001b[38;5;241m.\u001b[39m_lock:\n\u001b[0;32m   2494\u001b[0m   (graph_function,\n\u001b[0;32m   2495\u001b[0m    filtered_flat_args) \u001b[38;5;241m=\u001b[39m \u001b[38;5;28mself\u001b[39m\u001b[38;5;241m.\u001b[39m_maybe_define_function(args, kwargs)\n\u001b[1;32m-> 2496\u001b[0m \u001b[38;5;28;01mreturn\u001b[39;00m \u001b[43mgraph_function\u001b[49m\u001b[38;5;241;43m.\u001b[39;49m\u001b[43m_call_flat\u001b[49m\u001b[43m(\u001b[49m\n\u001b[0;32m   2497\u001b[0m \u001b[43m    \u001b[49m\u001b[43mfiltered_flat_args\u001b[49m\u001b[43m,\u001b[49m\u001b[43m \u001b[49m\u001b[43mcaptured_inputs\u001b[49m\u001b[38;5;241;43m=\u001b[39;49m\u001b[43mgraph_function\u001b[49m\u001b[38;5;241;43m.\u001b[39;49m\u001b[43mcaptured_inputs\u001b[49m\u001b[43m)\u001b[49m\n",
      "File \u001b[1;32m~\\Anaconda3\\lib\\site-packages\\tensorflow\\python\\eager\\function.py:1862\u001b[0m, in \u001b[0;36mConcreteFunction._call_flat\u001b[1;34m(self, args, captured_inputs, cancellation_manager)\u001b[0m\n\u001b[0;32m   1858\u001b[0m possible_gradient_type \u001b[38;5;241m=\u001b[39m gradients_util\u001b[38;5;241m.\u001b[39mPossibleTapeGradientTypes(args)\n\u001b[0;32m   1859\u001b[0m \u001b[38;5;28;01mif\u001b[39;00m (possible_gradient_type \u001b[38;5;241m==\u001b[39m gradients_util\u001b[38;5;241m.\u001b[39mPOSSIBLE_GRADIENT_TYPES_NONE\n\u001b[0;32m   1860\u001b[0m     \u001b[38;5;129;01mand\u001b[39;00m executing_eagerly):\n\u001b[0;32m   1861\u001b[0m   \u001b[38;5;66;03m# No tape is watching; skip to running the function.\u001b[39;00m\n\u001b[1;32m-> 1862\u001b[0m   \u001b[38;5;28;01mreturn\u001b[39;00m \u001b[38;5;28mself\u001b[39m\u001b[38;5;241m.\u001b[39m_build_call_outputs(\u001b[38;5;28;43mself\u001b[39;49m\u001b[38;5;241;43m.\u001b[39;49m\u001b[43m_inference_function\u001b[49m\u001b[38;5;241;43m.\u001b[39;49m\u001b[43mcall\u001b[49m\u001b[43m(\u001b[49m\n\u001b[0;32m   1863\u001b[0m \u001b[43m      \u001b[49m\u001b[43mctx\u001b[49m\u001b[43m,\u001b[49m\u001b[43m \u001b[49m\u001b[43margs\u001b[49m\u001b[43m,\u001b[49m\u001b[43m \u001b[49m\u001b[43mcancellation_manager\u001b[49m\u001b[38;5;241;43m=\u001b[39;49m\u001b[43mcancellation_manager\u001b[49m\u001b[43m)\u001b[49m)\n\u001b[0;32m   1864\u001b[0m forward_backward \u001b[38;5;241m=\u001b[39m \u001b[38;5;28mself\u001b[39m\u001b[38;5;241m.\u001b[39m_select_forward_and_backward_functions(\n\u001b[0;32m   1865\u001b[0m     args,\n\u001b[0;32m   1866\u001b[0m     possible_gradient_type,\n\u001b[0;32m   1867\u001b[0m     executing_eagerly)\n\u001b[0;32m   1868\u001b[0m forward_function, args_with_tangents \u001b[38;5;241m=\u001b[39m forward_backward\u001b[38;5;241m.\u001b[39mforward()\n",
      "File \u001b[1;32m~\\Anaconda3\\lib\\site-packages\\tensorflow\\python\\eager\\function.py:499\u001b[0m, in \u001b[0;36m_EagerDefinedFunction.call\u001b[1;34m(self, ctx, args, cancellation_manager)\u001b[0m\n\u001b[0;32m    497\u001b[0m \u001b[38;5;28;01mwith\u001b[39;00m _InterpolateFunctionError(\u001b[38;5;28mself\u001b[39m):\n\u001b[0;32m    498\u001b[0m   \u001b[38;5;28;01mif\u001b[39;00m cancellation_manager \u001b[38;5;129;01mis\u001b[39;00m \u001b[38;5;28;01mNone\u001b[39;00m:\n\u001b[1;32m--> 499\u001b[0m     outputs \u001b[38;5;241m=\u001b[39m \u001b[43mexecute\u001b[49m\u001b[38;5;241;43m.\u001b[39;49m\u001b[43mexecute\u001b[49m\u001b[43m(\u001b[49m\n\u001b[0;32m    500\u001b[0m \u001b[43m        \u001b[49m\u001b[38;5;28;43mstr\u001b[39;49m\u001b[43m(\u001b[49m\u001b[38;5;28;43mself\u001b[39;49m\u001b[38;5;241;43m.\u001b[39;49m\u001b[43msignature\u001b[49m\u001b[38;5;241;43m.\u001b[39;49m\u001b[43mname\u001b[49m\u001b[43m)\u001b[49m\u001b[43m,\u001b[49m\n\u001b[0;32m    501\u001b[0m \u001b[43m        \u001b[49m\u001b[43mnum_outputs\u001b[49m\u001b[38;5;241;43m=\u001b[39;49m\u001b[38;5;28;43mself\u001b[39;49m\u001b[38;5;241;43m.\u001b[39;49m\u001b[43m_num_outputs\u001b[49m\u001b[43m,\u001b[49m\n\u001b[0;32m    502\u001b[0m \u001b[43m        \u001b[49m\u001b[43minputs\u001b[49m\u001b[38;5;241;43m=\u001b[39;49m\u001b[43margs\u001b[49m\u001b[43m,\u001b[49m\n\u001b[0;32m    503\u001b[0m \u001b[43m        \u001b[49m\u001b[43mattrs\u001b[49m\u001b[38;5;241;43m=\u001b[39;49m\u001b[43mattrs\u001b[49m\u001b[43m,\u001b[49m\n\u001b[0;32m    504\u001b[0m \u001b[43m        \u001b[49m\u001b[43mctx\u001b[49m\u001b[38;5;241;43m=\u001b[39;49m\u001b[43mctx\u001b[49m\u001b[43m)\u001b[49m\n\u001b[0;32m    505\u001b[0m   \u001b[38;5;28;01melse\u001b[39;00m:\n\u001b[0;32m    506\u001b[0m     outputs \u001b[38;5;241m=\u001b[39m execute\u001b[38;5;241m.\u001b[39mexecute_with_cancellation(\n\u001b[0;32m    507\u001b[0m         \u001b[38;5;28mstr\u001b[39m(\u001b[38;5;28mself\u001b[39m\u001b[38;5;241m.\u001b[39msignature\u001b[38;5;241m.\u001b[39mname),\n\u001b[0;32m    508\u001b[0m         num_outputs\u001b[38;5;241m=\u001b[39m\u001b[38;5;28mself\u001b[39m\u001b[38;5;241m.\u001b[39m_num_outputs,\n\u001b[1;32m   (...)\u001b[0m\n\u001b[0;32m    511\u001b[0m         ctx\u001b[38;5;241m=\u001b[39mctx,\n\u001b[0;32m    512\u001b[0m         cancellation_manager\u001b[38;5;241m=\u001b[39mcancellation_manager)\n",
      "File \u001b[1;32m~\\Anaconda3\\lib\\site-packages\\tensorflow\\python\\eager\\execute.py:54\u001b[0m, in \u001b[0;36mquick_execute\u001b[1;34m(op_name, num_outputs, inputs, attrs, ctx, name)\u001b[0m\n\u001b[0;32m     52\u001b[0m \u001b[38;5;28;01mtry\u001b[39;00m:\n\u001b[0;32m     53\u001b[0m   ctx\u001b[38;5;241m.\u001b[39mensure_initialized()\n\u001b[1;32m---> 54\u001b[0m   tensors \u001b[38;5;241m=\u001b[39m \u001b[43mpywrap_tfe\u001b[49m\u001b[38;5;241;43m.\u001b[39;49m\u001b[43mTFE_Py_Execute\u001b[49m\u001b[43m(\u001b[49m\u001b[43mctx\u001b[49m\u001b[38;5;241;43m.\u001b[39;49m\u001b[43m_handle\u001b[49m\u001b[43m,\u001b[49m\u001b[43m \u001b[49m\u001b[43mdevice_name\u001b[49m\u001b[43m,\u001b[49m\u001b[43m \u001b[49m\u001b[43mop_name\u001b[49m\u001b[43m,\u001b[49m\n\u001b[0;32m     55\u001b[0m \u001b[43m                                      \u001b[49m\u001b[43minputs\u001b[49m\u001b[43m,\u001b[49m\u001b[43m \u001b[49m\u001b[43mattrs\u001b[49m\u001b[43m,\u001b[49m\u001b[43m \u001b[49m\u001b[43mnum_outputs\u001b[49m\u001b[43m)\u001b[49m\n\u001b[0;32m     56\u001b[0m \u001b[38;5;28;01mexcept\u001b[39;00m core\u001b[38;5;241m.\u001b[39m_NotOkStatusException \u001b[38;5;28;01mas\u001b[39;00m e:\n\u001b[0;32m     57\u001b[0m   \u001b[38;5;28;01mif\u001b[39;00m name \u001b[38;5;129;01mis\u001b[39;00m \u001b[38;5;129;01mnot\u001b[39;00m \u001b[38;5;28;01mNone\u001b[39;00m:\n",
      "\u001b[1;31mKeyboardInterrupt\u001b[0m: "
     ]
    }
   ],
   "source": [
    "RNN2 = Sequential([\n",
    "    Embedding(vocab_size, embeded_vector_size, input_length=max_len),\n",
    "    SimpleRNN(units=64, return_sequences=True, kernel_regularizer=regularizers.l2(0.01)),\n",
    "    Dropout(0.5),\n",
    "    SimpleRNN(units=32, kernel_regularizer=regularizers.l2(0.01)),\n",
    "    Dropout(0.5),\n",
    "    Dense(1, activation='sigmoid')\n",
    "])\n",
    "\n",
    "RNN2.compile(optimizer='adam', loss='binary_crossentropy', metrics=['accuracy'])\n",
    "print(RNN2.summary())\n",
    "\n",
    "RNN2_history = RNN2.fit(X_train, y_train, validation_data=(X_test, y_test), epochs=15, batch_size=32, callbacks=[early_stopping])"
   ]
  },
  {
   "cell_type": "markdown",
   "id": "90e2de41",
   "metadata": {},
   "source": [
    "RNN2.save('RNN_E_R64_dr_R32_dr_D1.h5')"
   ]
  },
  {
   "cell_type": "code",
   "execution_count": null,
   "id": "c987e36b",
   "metadata": {},
   "outputs": [],
   "source": [
    "Evaluate(RNN2, X_test, y_test)\n",
    "plotHistory(RNN2_history)"
   ]
  },
  {
   "cell_type": "code",
   "execution_count": 290,
   "id": "b24931fc",
   "metadata": {},
   "outputs": [],
   "source": [
    "from tensorflow.keras.layers import LSTM"
   ]
  },
  {
   "cell_type": "code",
   "execution_count": null,
   "id": "7e43110f",
   "metadata": {},
   "outputs": [
    {
     "name": "stdout",
     "output_type": "stream",
     "text": [
      "Model: \"sequential_39\"\n",
      "_________________________________________________________________\n",
      " Layer (type)                Output Shape              Param #   \n",
      "=================================================================\n",
      " embedding_11 (Embedding)    (None, 1398, 90)          646560    \n",
      "                                                                 \n",
      " lstm (LSTM)                 (None, 128)               112128    \n",
      "                                                                 \n",
      " dropout_39 (Dropout)        (None, 128)               0         \n",
      "                                                                 \n",
      " dense_96 (Dense)            (None, 64)                8256      \n",
      "                                                                 \n",
      " dropout_40 (Dropout)        (None, 64)                0         \n",
      "                                                                 \n",
      " dense_97 (Dense)            (None, 32)                2080      \n",
      "                                                                 \n",
      " dropout_41 (Dropout)        (None, 32)                0         \n",
      "                                                                 \n",
      " dense_98 (Dense)            (None, 1)                 33        \n",
      "                                                                 \n",
      "=================================================================\n",
      "Total params: 769,057\n",
      "Trainable params: 769,057\n",
      "Non-trainable params: 0\n",
      "_________________________________________________________________\n",
      "None\n",
      "Epoch 1/15\n",
      "1250/1250 [==============================] - 11243s 9s/step - loss: 0.7296 - accuracy: 0.5003 - val_loss: 0.6930 - val_accuracy: 0.5108\n",
      "Epoch 2/15\n",
      "1250/1250 [==============================] - 10047s 8s/step - loss: 0.6935 - accuracy: 0.4967 - val_loss: 0.6931 - val_accuracy: 0.5108\n",
      "Epoch 3/15\n",
      " 169/1250 [===>..........................] - ETA: 1:46:16 - loss: 0.6935 - accuracy: 0.4945"
     ]
    }
   ],
   "source": [
    "# Define the model\n",
    "LSTM = Sequential([\n",
    "    Embedding(vocab_size, embeded_vector_size, input_length=max_len),\n",
    "    LSTM(units=128, activation='tanh', kernel_regularizer=regularizers.l2(0.01)),\n",
    "    Dropout(0.5),\n",
    "    Dense(64, activation='tanh'),\n",
    "    Dropout(0.1),\n",
    "    Dense(32, activation='tanh'),\n",
    "    Dropout(0.1),\n",
    "#     Dense(16, activation='relu'),\n",
    "    Dense(1, activation='sigmoid')\n",
    "])\n",
    "\n",
    "LSTM.compile(optimizer='adam', loss='binary_crossentropy', metrics=['accuracy'])\n",
    "print(LSTM.summary())\n",
    "\n",
    "LSTM_history = LSTM.fit(X_train, y_train, validation_data=(X_test, y_test), epochs=15, batch_size=32, callbacks=[early_stopping])"
   ]
  },
  {
   "cell_type": "code",
   "execution_count": null,
   "id": "819cfd81",
   "metadata": {},
   "outputs": [],
   "source": [
    "Evaluate(LSTM, X_test, y_test)\n",
    "plotHistory(LSTM_history)"
   ]
  },
  {
   "cell_type": "code",
   "execution_count": null,
   "id": "a02654b9",
   "metadata": {},
   "outputs": [],
   "source": [
    "LSTM.save('LSTM_E_L64_D1.h5')"
   ]
  },
  {
   "cell_type": "code",
   "execution_count": null,
   "id": "eda8ca95",
   "metadata": {},
   "outputs": [],
   "source": [
    "RNN = Sequential([\n",
    "    Embedding(vocab_size, embeded_vector_size, input_length=max_len),\n",
    "    SimpleRNN(units=256, return_sequences=True),\n",
    "    Dropout(0.3),\n",
    "    SimpleRNN(units=256),\n",
    "    Dropout(0.3),\n",
    "    Dense(128, activation='relu'),\n",
    "    Dropout(0.3),\n",
    "    Dense(1, activation='sigmoid')\n",
    "])\n"
   ]
  },
  {
   "cell_type": "code",
   "execution_count": null,
   "id": "92d6fd75",
   "metadata": {},
   "outputs": [],
   "source": [
    "RNN.compile(optimizer=RMSprop(learning_rate=0.001), loss='binary_crossentropy', metrics=['accuracy'])\n",
    "print(RNN.summary())\n",
    "\n",
    "early_stopping = EarlyStopping(patience=3, restore_best_weights=True)\n",
    "\n",
    "RNN_history = RNN.fit(X_train, y_train, validation_data=(X_test, y_test), epochs=15, batch_size=32, callbacks=[early_stopping])"
   ]
  },
  {
   "cell_type": "code",
   "execution_count": null,
   "id": "f7265698",
   "metadata": {},
   "outputs": [],
   "source": [
    "Evaluate(RNN, X_test, y_test)\n",
    "plotHistory(RNN_history)"
   ]
  }
 ],
 "metadata": {
  "kernelspec": {
   "display_name": "Python 3 (ipykernel)",
   "language": "python",
   "name": "python3"
  },
  "language_info": {
   "codemirror_mode": {
    "name": "ipython",
    "version": 3
   },
   "file_extension": ".py",
   "mimetype": "text/x-python",
   "name": "python",
   "nbconvert_exporter": "python",
   "pygments_lexer": "ipython3",
   "version": "3.9.12"
  }
 },
 "nbformat": 4,
 "nbformat_minor": 5
}
